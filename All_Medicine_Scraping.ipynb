{
 "cells": [
  {
   "cell_type": "code",
   "execution_count": 1,
   "metadata": {},
   "outputs": [],
   "source": [
    "from selenium import webdriver\n",
    "from time import sleep\n",
    "from bs4 import BeautifulSoup\n",
    "import pandas as pd"
   ]
  },
  {
   "cell_type": "code",
   "execution_count": 2,
   "metadata": {},
   "outputs": [],
   "source": [
    "PageUrl= \"https://www.drugs.com/comments/bupropion/?page={}\"\n",
    "#Note:Go to second page and then copy the link upto \"page=\" part"
   ]
  },
  {
   "cell_type": "code",
   "execution_count": 3,
   "metadata": {},
   "outputs": [],
   "source": [
    "Driver = webdriver.Chrome(\"C:\\chromedriver_win32\\chromedriver.exe\")\n",
    "#You need to install CromeDriver to run this command"
   ]
  },
  {
   "cell_type": "code",
   "execution_count": 4,
   "metadata": {},
   "outputs": [],
   "source": [
    "## Data we want to collect (Store)\n",
    "Medicine_Name=[]\n",
    "Condition =[]\n",
    "Review=[]\n",
    "rating=[]\n",
    "date=[]\n",
    "usefulCount=[]"
   ]
  },
  {
   "cell_type": "code",
   "execution_count": 5,
   "metadata": {},
   "outputs": [],
   "source": [
    "#in range fun (0,26,1) I give 26 as a default no you can increase it but make sure that if any medicine has only 3 reviews_page \n",
    "#then you need to replace 26 with 4 otherwise it will scrap the data of last(3rd) page until it will have completed 25 iterations \n",
    "for pageNum in range(0,26, 1):\n",
    "    Driver.get(PageUrl.format(pageNum))\n",
    "    cards = None\n",
    "    while True:\n",
    "        cards = Driver.find_elements_by_class_name(\"ddc-comment\")\n",
    "        break\n",
    "        \n",
    "    for card in cards:\n",
    "        details = BeautifulSoup(card.get_attribute('innerHTML'), 'html.parser')\n",
    "        \n",
    "        try:\n",
    "            r_date = details.find(class_ = \"comment-date\").text.replace(\"\\n\", \"\").strip()\n",
    "            date.append(r_date)\n",
    "        except:\n",
    "            date.append(None)\n",
    "            \n",
    "        \n",
    "        try:\n",
    "            review1 = details.find(class_ = \"ddc-comment-content\")\n",
    "            review2 = str(review1) \n",
    "            b_Sfind = review2.find(\"<b>\")\n",
    "            b_Start=b_Sfind+3\n",
    "            b_Efind = review2.find(\"</b>\")\n",
    "            b_End=b_Efind-1\n",
    "            r_Start=b_Efind+4\n",
    "            p_Efind = review2.find(\"</p>\")\n",
    "            p_End=p_Efind-1\n",
    "            review = ''.join([sub for sub in review2])[r_Start : p_End]\n",
    "            review=review.replace(\"\\n\",\"\")\n",
    "            review=review.replace(\"\\t\",\"\")\n",
    "            \n",
    "            condition = ''.join([sub for sub in review2])[b_Start : b_End] \n",
    "            Condition.append(condition)\n",
    "            Review.append(review)\n",
    "            \n",
    "        except:\n",
    "            Condition.append(None)\n",
    "            Review.append(None)\n",
    "            \n",
    "        try:\n",
    "            r_rating = details.find(class_ = \"ddc-rating-summary\")\n",
    "            Rating = str(r_rating) \n",
    "            rb_Sfind = Rating.find(\"<b>\")\n",
    "            rb_Start=rb_Sfind+3\n",
    "            rb_Efind = Rating.find(\"</b>\")\n",
    "            Rating1 = ''.join([sub for sub in Rating])[rb_Start : rb_Efind]\n",
    "            Ranting2=int(Rating1)\n",
    "            rating.append(Ranting2)\n",
    "        except:\n",
    "            rating.append(None)\n",
    "            \n",
    "        try:\n",
    "            Count = details.findAll(class_=\"ddc-comment-actions\")\n",
    "            Count1 = str(Count) \n",
    "            c_Sfind = Count1.find(\"</svg>\")\n",
    "            c_Start=c_Sfind+6\n",
    "            c_Efind = Count1.find(\"</span>\")\n",
    "            c_End=c_Efind-5\n",
    "            Count2 = ''.join([sub for sub in Count1])[c_Start : c_End]\n",
    "            Count3=int(Count2)\n",
    "            usefulCount.append(Count3)\n",
    "        except:\n",
    "            usefulCount.append(None)\n",
    "        \n",
    "        try:\n",
    "            Medicine_Name.append(\"Bupropion\")\n",
    "        except:\n",
    "            Medicine_Name.append(None)\n"
   ]
  },
  {
   "cell_type": "code",
   "execution_count": 6,
   "metadata": {},
   "outputs": [],
   "source": [
    "df = pd.DataFrame({\n",
    "    \"Medicine Name\":Medicine_Name,\n",
    "    \"Condition\":Condition,\n",
    "    \"Review\":Review,\n",
    "    \"rating\":rating,\n",
    "    \"date\":date,\n",
    "    \"usefulCount\":usefulCount\n",
    "    \n",
    "})\n"
   ]
  },
  {
   "cell_type": "code",
   "execution_count": 7,
   "metadata": {},
   "outputs": [
    {
     "data": {
      "text/html": [
       "<div>\n",
       "<style scoped>\n",
       "    .dataframe tbody tr th:only-of-type {\n",
       "        vertical-align: middle;\n",
       "    }\n",
       "\n",
       "    .dataframe tbody tr th {\n",
       "        vertical-align: top;\n",
       "    }\n",
       "\n",
       "    .dataframe thead th {\n",
       "        text-align: right;\n",
       "    }\n",
       "</style>\n",
       "<table border=\"1\" class=\"dataframe\">\n",
       "  <thead>\n",
       "    <tr style=\"text-align: right;\">\n",
       "      <th></th>\n",
       "      <th>Medicine Name</th>\n",
       "      <th>Condition</th>\n",
       "      <th>Review</th>\n",
       "      <th>rating</th>\n",
       "      <th>date</th>\n",
       "      <th>usefulCount</th>\n",
       "    </tr>\n",
       "  </thead>\n",
       "  <tbody>\n",
       "    <tr>\n",
       "      <th>0</th>\n",
       "      <td>Bupropion</td>\n",
       "      <td>For Bipolar Disorder</td>\n",
       "      <td>“I was moving off Remeron about 6 years ago, h...</td>\n",
       "      <td>8.0</td>\n",
       "      <td>October 20, 2020</td>\n",
       "      <td>2</td>\n",
       "    </tr>\n",
       "    <tr>\n",
       "      <th>1</th>\n",
       "      <td>Bupropion</td>\n",
       "      <td>Wellbutrin XL (bupropion) for Depression</td>\n",
       "      <td>“Real and honest review. I’m a 52 yo male livi...</td>\n",
       "      <td>10.0</td>\n",
       "      <td>October 19, 2020</td>\n",
       "      <td>136</td>\n",
       "    </tr>\n",
       "    <tr>\n",
       "      <th>2</th>\n",
       "      <td>Bupropion</td>\n",
       "      <td>For ADHD</td>\n",
       "      <td>“I’ve been taking Wellbutrin for half a year a...</td>\n",
       "      <td>1.0</td>\n",
       "      <td>October 18, 2020</td>\n",
       "      <td>22</td>\n",
       "    </tr>\n",
       "    <tr>\n",
       "      <th>3</th>\n",
       "      <td>Bupropion</td>\n",
       "      <td>For Obesity</td>\n",
       "      <td>“I've been on 150mg bupropion for depression a...</td>\n",
       "      <td>1.0</td>\n",
       "      <td>October 18, 2020</td>\n",
       "      <td>5</td>\n",
       "    </tr>\n",
       "    <tr>\n",
       "      <th>4</th>\n",
       "      <td>Bupropion</td>\n",
       "      <td>For Major Depressive Disorder</td>\n",
       "      <td>“I just started taking this medication for pos...</td>\n",
       "      <td>10.0</td>\n",
       "      <td>October 17, 2020</td>\n",
       "      <td>10</td>\n",
       "    </tr>\n",
       "  </tbody>\n",
       "</table>\n",
       "</div>"
      ],
      "text/plain": [
       "  Medicine Name                                 Condition  \\\n",
       "0     Bupropion                      For Bipolar Disorder   \n",
       "1     Bupropion  Wellbutrin XL (bupropion) for Depression   \n",
       "2     Bupropion                                  For ADHD   \n",
       "3     Bupropion                               For Obesity   \n",
       "4     Bupropion             For Major Depressive Disorder   \n",
       "\n",
       "                                              Review  rating  \\\n",
       "0  “I was moving off Remeron about 6 years ago, h...     8.0   \n",
       "1  “Real and honest review. I’m a 52 yo male livi...    10.0   \n",
       "2  “I’ve been taking Wellbutrin for half a year a...     1.0   \n",
       "3  “I've been on 150mg bupropion for depression a...     1.0   \n",
       "4  “I just started taking this medication for pos...    10.0   \n",
       "\n",
       "               date  usefulCount  \n",
       "0  October 20, 2020            2  \n",
       "1  October 19, 2020          136  \n",
       "2  October 18, 2020           22  \n",
       "3  October 18, 2020            5  \n",
       "4  October 17, 2020           10  "
      ]
     },
     "execution_count": 7,
     "metadata": {},
     "output_type": "execute_result"
    }
   ],
   "source": [
    "df.head()"
   ]
  },
  {
   "cell_type": "code",
   "execution_count": 8,
   "metadata": {},
   "outputs": [],
   "source": [
    "df.to_csv('Bupropion.csv')"
   ]
  },
  {
   "cell_type": "code",
   "execution_count": null,
   "metadata": {},
   "outputs": [],
   "source": [
    "#Make sure you restart the kernel each time before execution of script "
   ]
  },
  {
   "cell_type": "code",
   "execution_count": null,
   "metadata": {},
   "outputs": [],
   "source": []
  },
  {
   "cell_type": "code",
   "execution_count": null,
   "metadata": {},
   "outputs": [],
   "source": [
    "\n"
   ]
  },
  {
   "cell_type": "code",
   "execution_count": null,
   "metadata": {},
   "outputs": [],
   "source": []
  }
 ],
 "metadata": {
  "kernelspec": {
   "display_name": "Python 3",
   "language": "python",
   "name": "python3"
  },
  "language_info": {
   "codemirror_mode": {
    "name": "ipython",
    "version": 3
   },
   "file_extension": ".py",
   "mimetype": "text/x-python",
   "name": "python",
   "nbconvert_exporter": "python",
   "pygments_lexer": "ipython3",
   "version": "3.8.3"
  }
 },
 "nbformat": 4,
 "nbformat_minor": 4
}

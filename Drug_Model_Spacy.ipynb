{
  "nbformat": 4,
  "nbformat_minor": 0,
  "metadata": {
    "colab": {
      "name": "Drug_Model_Spacy.ipynb",
      "provenance": [],
      "collapsed_sections": []
    },
    "kernelspec": {
      "name": "python3",
      "display_name": "Python 3"
    }
  },
  "cells": [
    {
      "cell_type": "code",
      "metadata": {
        "id": "4Zvt3WVp8Lvp"
      },
      "source": [
        "#Importing Libraries\r\n",
        "import pandas as pd\r\n",
        "import numpy as np\r\n",
        "import spacy"
      ],
      "execution_count": null,
      "outputs": []
    },
    {
      "cell_type": "code",
      "metadata": {
        "id": "0KbkN6t08xR3"
      },
      "source": [
        "# load english language model\r\n",
        "nlp = spacy.load('en_core_web_sm')"
      ],
      "execution_count": null,
      "outputs": []
    },
    {
      "cell_type": "code",
      "metadata": {
        "colab": {
          "base_uri": "https://localhost:8080/"
        },
        "id": "O8teHhOf8aWj",
        "outputId": "194e8dec-6f94-48c7-feef-f4fbf992e463"
      },
      "source": [
        "from google.colab import drive\r\n",
        "drive.mount('/content/drive')"
      ],
      "execution_count": null,
      "outputs": [
        {
          "output_type": "stream",
          "text": [
            "Mounted at /content/drive\n"
          ],
          "name": "stdout"
        }
      ]
    },
    {
      "cell_type": "code",
      "metadata": {
        "id": "y80zxvPq8cNV"
      },
      "source": [
        "#Loading the dataset\r\n",
        "ds=pd.read_csv(\"./drive/My Drive/Colab Notebooks/Drugs_Preprocessed.csv\",encoding=\"ISO-8859-1\")"
      ],
      "execution_count": null,
      "outputs": []
    },
    {
      "cell_type": "code",
      "metadata": {
        "id": "aWb0b4vjIX68"
      },
      "source": [
        "drug_condition = ds.groupby('drugName')['condition'].apply(lambda x: list(np.unique(x)))"
      ],
      "execution_count": null,
      "outputs": []
    },
    {
      "cell_type": "code",
      "metadata": {
        "colab": {
          "base_uri": "https://localhost:8080/"
        },
        "id": "F0VzQDPPJtKo",
        "outputId": "990c3e5a-7751-4888-c807-ff261593ce04"
      },
      "source": [
        "drug_condition.head()"
      ],
      "execution_count": null,
      "outputs": [
        {
          "output_type": "execute_result",
          "data": {
            "text/plain": [
              "drugName\n",
              "A + D Cracked Skin Relief                                    [Bacterial Skin Infection]\n",
              "A / B Otic                                                               [Otitis Media]\n",
              "Abacavir / lamivudine                                                   [HIV Infection]\n",
              "Abacavir / lamivudine / zidovudine                                      [HIV Infection]\n",
              "Abatacept                             [Juvenile Idiopathic Arthritis, Rheumatoid Art...\n",
              "Name: condition, dtype: object"
            ]
          },
          "metadata": {
            "tags": []
          },
          "execution_count": 6
        }
      ]
    },
    {
      "cell_type": "code",
      "metadata": {
        "colab": {
          "base_uri": "https://localhost:8080/"
        },
        "id": "WF9CWGKy8005",
        "outputId": "be5fbcfe-75ea-4602-9468-bcc4fcb8aad1"
      },
      "source": [
        "drug_data = input(\"Enter any drugName: \" )"
      ],
      "execution_count": null,
      "outputs": [
        {
          "output_type": "stream",
          "text": [
            "Enter any drugName: Abatacept\n"
          ],
          "name": "stdout"
        }
      ]
    },
    {
      "cell_type": "code",
      "metadata": {
        "id": "0fHUd11j883n"
      },
      "source": [
        "df_data = ds[ds[\"drugName\"] == drug_data]"
      ],
      "execution_count": null,
      "outputs": []
    },
    {
      "cell_type": "code",
      "metadata": {
        "colab": {
          "base_uri": "https://localhost:8080/"
        },
        "id": "etC5zuy78_xL",
        "outputId": "c1ca35da-1555-49c2-c7ac-268b299c4022"
      },
      "source": [
        "df_data.shape"
      ],
      "execution_count": null,
      "outputs": [
        {
          "output_type": "execute_result",
          "data": {
            "text/plain": [
              "(23, 9)"
            ]
          },
          "metadata": {
            "tags": []
          },
          "execution_count": 9
        }
      ]
    },
    {
      "cell_type": "code",
      "metadata": {
        "id": "Ts95AXCm5vWZ"
      },
      "source": [
        "Avg_rat = df_data[\"rating\"].mean()"
      ],
      "execution_count": null,
      "outputs": []
    },
    {
      "cell_type": "code",
      "metadata": {
        "id": "NP8bDjvm-Kus"
      },
      "source": [
        "drug_condition = df_data['condition'].unique()"
      ],
      "execution_count": null,
      "outputs": []
    },
    {
      "cell_type": "code",
      "metadata": {
        "colab": {
          "base_uri": "https://localhost:8080/"
        },
        "id": "mOvH02GEAX-d",
        "outputId": "157ccc06-ab07-4df5-9573-89c242d0285e"
      },
      "source": [
        "print(drug_condition)"
      ],
      "execution_count": null,
      "outputs": [
        {
          "output_type": "stream",
          "text": [
            "['Rheumatoid Arthritis' 'Juvenile Idiopathic Arthritis']\n"
          ],
          "name": "stdout"
        }
      ]
    },
    {
      "cell_type": "code",
      "metadata": {
        "id": "NWyhb2Pq8s0l"
      },
      "source": [
        "#Defining the output variable\r\n",
        "#We are labiling Sentiment as '0' and '1'\r\n",
        "#0 represents negative  if the rating is between 1 and 6 \r\n",
        "#1 represents positive  if the rating is higher than 6\r\n",
        "def scores(x):\r\n",
        "    if x >=1 and x< 6:\r\n",
        "        return 0\r\n",
        "    elif x >= 6:\r\n",
        "        return 1\r\n",
        "\r\n",
        "df_data['sentiment'] =df_data['rating'].apply(scores)"
      ],
      "execution_count": null,
      "outputs": []
    },
    {
      "cell_type": "code",
      "metadata": {
        "colab": {
          "base_uri": "https://localhost:8080/",
          "height": 306
        },
        "id": "erJMwh-a9Pp1",
        "outputId": "5bc6b80b-b356-4088-a156-f40634677069"
      },
      "source": [
        "df_data.head()"
      ],
      "execution_count": null,
      "outputs": [
        {
          "output_type": "execute_result",
          "data": {
            "text/html": [
              "<div>\n",
              "<style scoped>\n",
              "    .dataframe tbody tr th:only-of-type {\n",
              "        vertical-align: middle;\n",
              "    }\n",
              "\n",
              "    .dataframe tbody tr th {\n",
              "        vertical-align: top;\n",
              "    }\n",
              "\n",
              "    .dataframe thead th {\n",
              "        text-align: right;\n",
              "    }\n",
              "</style>\n",
              "<table border=\"1\" class=\"dataframe\">\n",
              "  <thead>\n",
              "    <tr style=\"text-align: right;\">\n",
              "      <th></th>\n",
              "      <th>Unnamed: 0</th>\n",
              "      <th>drugName</th>\n",
              "      <th>condition</th>\n",
              "      <th>rating</th>\n",
              "      <th>date</th>\n",
              "      <th>usefulCount</th>\n",
              "      <th>Clean_Review</th>\n",
              "      <th>S_Review</th>\n",
              "      <th>Lemm_Review</th>\n",
              "      <th>sentiment</th>\n",
              "    </tr>\n",
              "  </thead>\n",
              "  <tbody>\n",
              "    <tr>\n",
              "      <th>3046</th>\n",
              "      <td>3651</td>\n",
              "      <td>Abatacept</td>\n",
              "      <td>Rheumatoid Arthritis</td>\n",
              "      <td>9.0</td>\n",
              "      <td>May 29, 2017</td>\n",
              "      <td>16.0</td>\n",
              "      <td>after rashes  pain nausea and elevated liver e...</td>\n",
              "      <td>['rashes', 'pain', 'nausea', 'elevated', 'live...</td>\n",
              "      <td>['rash', 'pain', 'nausea', 'elevated', 'liver'...</td>\n",
              "      <td>1</td>\n",
              "    </tr>\n",
              "    <tr>\n",
              "      <th>3505</th>\n",
              "      <td>4174</td>\n",
              "      <td>Abatacept</td>\n",
              "      <td>Rheumatoid Arthritis</td>\n",
              "      <td>10.0</td>\n",
              "      <td>October 7, 2009</td>\n",
              "      <td>92.0</td>\n",
              "      <td>after the first week of using orencia i felt m...</td>\n",
              "      <td>['first', 'week', 'using', 'orencia', 'felt', ...</td>\n",
              "      <td>['first', 'week', 'using', 'orencia', 'felt', ...</td>\n",
              "      <td>1</td>\n",
              "    </tr>\n",
              "    <tr>\n",
              "      <th>6483</th>\n",
              "      <td>7564</td>\n",
              "      <td>Abatacept</td>\n",
              "      <td>Rheumatoid Arthritis</td>\n",
              "      <td>10.0</td>\n",
              "      <td>February 25, 2016</td>\n",
              "      <td>62.0</td>\n",
              "      <td>been on weekly injections since nov  have had ...</td>\n",
              "      <td>['weekly', 'injections', 'since', 'nov', 'side...</td>\n",
              "      <td>['weekly', 'injection', 'since', 'nov', 'side'...</td>\n",
              "      <td>1</td>\n",
              "    </tr>\n",
              "    <tr>\n",
              "      <th>9337</th>\n",
              "      <td>10814</td>\n",
              "      <td>Abatacept</td>\n",
              "      <td>Rheumatoid Arthritis</td>\n",
              "      <td>1.0</td>\n",
              "      <td>April 18, 2016</td>\n",
              "      <td>27.0</td>\n",
              "      <td>diagnosed years ago with ra in all major joint...</td>\n",
              "      <td>['diagnosed', 'years', 'ago', 'ra', 'major', '...</td>\n",
              "      <td>['diagnosed', 'year', 'ago', 'ra', 'major', 'j...</td>\n",
              "      <td>0</td>\n",
              "    </tr>\n",
              "    <tr>\n",
              "      <th>13334</th>\n",
              "      <td>15441</td>\n",
              "      <td>Abatacept</td>\n",
              "      <td>Rheumatoid Arthritis</td>\n",
              "      <td>3.0</td>\n",
              "      <td>May 5, 2016</td>\n",
              "      <td>22.0</td>\n",
              "      <td>gave this drug a ten a few months ago but afte...</td>\n",
              "      <td>['gave', 'drug', 'ten', 'months', 'ago', 'year...</td>\n",
              "      <td>['gave', 'drug', 'ten', 'month', 'ago', 'year'...</td>\n",
              "      <td>0</td>\n",
              "    </tr>\n",
              "  </tbody>\n",
              "</table>\n",
              "</div>"
            ],
            "text/plain": [
              "       Unnamed: 0  ... sentiment\n",
              "3046         3651  ...         1\n",
              "3505         4174  ...         1\n",
              "6483         7564  ...         1\n",
              "9337        10814  ...         0\n",
              "13334       15441  ...         0\n",
              "\n",
              "[5 rows x 10 columns]"
            ]
          },
          "metadata": {
            "tags": []
          },
          "execution_count": 14
        }
      ]
    },
    {
      "cell_type": "code",
      "metadata": {
        "id": "GAYc2wKr9DbL"
      },
      "source": [
        "ip = []\r\n",
        "for i in df_data.index:\r\n",
        "    ip.append(df_data['Clean_Review'][i])"
      ],
      "execution_count": null,
      "outputs": []
    },
    {
      "cell_type": "code",
      "metadata": {
        "id": "g0SbAKEr9FhG",
        "colab": {
          "base_uri": "https://localhost:8080/"
        },
        "outputId": "31b06f23-f44b-418d-c014-8d33f007437f"
      },
      "source": [
        "print(ip)"
      ],
      "execution_count": null,
      "outputs": [
        {
          "output_type": "stream",
          "text": [
            "['after rashes  pain nausea and elevated liver enzymes on remicade then humira the doc switched me to orencia  felt very tired the evening of the loading dose but not ill  now i feel better than i have felt in  years  love this stuff', 'after the first week of using orencia i felt more energized before i would wake up feeling tired and could barely move i was stiff and could not go out to dinner or to other places now i can enjoy my life much better im not tired or stiff any more i can do a lot more things that i wasnt able to do before', 'been on weekly injections since nov  have had no side effects no flare ups no joint swelling or pain totally keeping my ra at bay my insurance and orencia copay covered the total expense but now since my insurance changed january  they will not cover it and insist i try humira i cannot take methotrexate kidney issues i am terrified theyd rather let me die due to cost than give me what has worked for over  yrs my doctor believes totally in orencia amp so do i i think its the best out there', 'diagnosed years ago with ra in all major joints except right hip which is severe osteoarthritisi take plaquenil amp have tried methotrexate gabapentin meloxicam arava had major side effects with each one my dr decided to try a biologic my first self injection of enbrel caused an anaphylactic reaction almost killing me i now carry an epi pen i was scared but hopeful that orencia would work the first injection i litterally kept the epi pen in my hand  hours after the first dose all  fingers turned a very dark blueblack color as did my feet my legs were a solid greyblue color nd injection same thing orencia was stopped  months later i am still blue never again', 'gave this drug a ten a few months ago but after just over a year it has stopped  working now trying roactemra', 'got an infusion of orencia on a tues for worsening ra symptoms  wednesday  i had a severe headache that basically incapacitated me thursday morning  i woke up with the same headache sensitivity to light and sound  and a stiff neck i was unable to stand up without vomiting  ed doctor did lumbar puncture and told me i had viral meningitis that experience has made me reluctant to try another biologic', 'i am on my th month of treatment and have seen some improvement in overall paindiscomfort but still continue to have issues i also have extreme fatigue the day after treatment my doctor just increased my dose to the maximum to see if that works i must take medication to sleep comfortably and medication to stay awake during the day these medications interact i supposedly have a mild case of rheumatoid arthritis and am still waiting to feel normal', 'i have been on orencia for  years and diagnosed  years ago i am so thankful that i responded so well to this medication orencia was the first medication and hopefully the last since my first infusion in  and the symptoms were finally being held at bay i have not had any issues to date i whole heartily  recommend orecina it saved my life and gave me my life back i hope itll do the same for you', 'i have had  orencia injections now and have found the drug to be extremely beneficial for myself overall there has been a marked improvement with my rheumatoid arthritis  the infusion actually works up until the last few days and then i experience an increase in aching swelling and pain  in comparison to all other drugs and believe me i have tried just about all of them this has been a wonder drug for approximately three days after having the injection i experience extreme tiredness but once that passes i am able to return to work and carry out normal everyday activities eg housework and gardening  prior to this medication i was unable to do general gardening  ', 'i have had severe rheumatoid arthritis and linked auto immune liver disease for four years  nothing worked  i couldnt take methotrexate because of my liver  i have had steroids by the bucket load sulfasalazine azathrioprine cimzia simponi rituximab  nothing worked  i began orencia seven months ago and it has transformed my life  i am almost back to normal again although anyone who has been through this will know that life will never be the same again and have had no unpleasant side effects amazing', 'i have taken  doses of the weekly self injections  at first i felt awful nauseated and flu like systems but now i feel wonderful  i dont hurt and it even has helped the shortness of breath i would get walking up stairs  i hope it continues to help and hope i dont gain additional weight as i have done with the prednisone  i have been on prednisone for over  months and have gained  pounds', 'i loved it til i had my first reaction after  months using it  my life has improved', 'i switched to orencia couple months ago i have had  treatments so far   since i switched to orencia i noticed that there has been significant improvement with my rheumatoid arthritis  i am able to sleep well again at night  i wake up not feeling tired achy and stiff in comparison to the other rheumatoid arthritis medications i have taken orencia seems to be working more for me i am no longer sleep deprived and am able to do some chores that i have not been able to do such as opening a jar door etc  i experience tiredness after my treatment for one day then up until the last few days of my next treatment minor aches and stiffness are back  i am hoping that orencia will the wonder drug for me and everyone', 'i was diagnosed with severe ra in  with sjoumlgrens raynauds and fibro ive tried methotrexate sulfazine prednisone embrel humira and remicade i became allergic to all of the biological then the others stopped working orencia saved me i react positively within  days of my self injection i can take breaks sometimes months off and it does not effect how the drug works for me i can now run a mile ride horses for hours swim and roller skate again im  and i look  thanks to this miracle drug im so happy to have my strength and mobility back', 'ive been doing the infusion for three months now it hasnt improved any of my symptoms at all day of infusion i get severe low backhip pain amp im exhausted the two days following i sleep a lot amp feel awful', 'in uk had this on nhs for last  months improved within the first month and after a couple of months was able to dance at my sons wedding something i thought i would never do thanks to the makers it has changed my life im back at work  hrs a week and dont ache for most of the month like others i do feel washed out for  days post infusion but its worth it for nearly a month of good health', 'life changing  i have tried many of your typical ra drugs since being diagnosed at  plaquenil methylprednisolone for  years  ', 'limited improvement after  months developed bad rash and md refused to continue medication', 'my daughter started monthly orencia infusions for her juvenile idiopathic arthritis about  years after being diagnosed she had been previously taking enbrel and methotrexate injections weekly for  years her arthritis became more aggressive so her rheumatologist started her on orencia continuing the methotrexate injections she got used to the infusion part rather quickly she had no side effects at all and the only problem we had was the occasional blown vein unfortunately the medication did not prove to be effective for her after  months of constant flare ups oral steroids and steroid injections we decided to change the medications again there are however  other children we know that the orencia is helping prevent flare ups', 'prednisone plaquenil mobic sulfasalisine and arava werent keeping my pain at bay and i was so tired stiff and sore that i was struggling at work my dr jenny decided to try orencia by self injection weekly and after a month i started to feel better and my inflammation levels started to go down i am now off the plaquenil and prednisone and working an   hr day  days a week gardening and landscaping i hope it continues it saved my work life', 'severe back pain and also in neck shoulders and arms started after being on abatacept for about  months more muscular pain than bone pain looking to come off it as its becoming problematic ive been on  other biologic medicines and this was the most effective in getting flare ups under control', 'this medication has been a life saver for me my  month old granddaughter and her mother live with me and my husband it is a job keeping up with her and without orencia i cant even walk my pain is so severe thank you orencia', 'works quite well  shot is painless  i dont generally have side effects  i have the orencia copay assistance that makes the medication affordable']\n"
          ],
          "name": "stdout"
        }
      ]
    },
    {
      "cell_type": "code",
      "metadata": {
        "id": "Qs3cKRSJ9J7P"
      },
      "source": [
        "ip_str = ' '.join([str(elements) for elements in ip])\r\n",
        "doc = nlp(ip_str)"
      ],
      "execution_count": null,
      "outputs": []
    },
    {
      "cell_type": "code",
      "metadata": {
        "id": "luxEj1Er9O_q"
      },
      "source": [
        "v_data = \" \"\r\n",
        "for token in doc:\r\n",
        "  if token.pos_ == \"VERB\" or token.pos_ == \"NOUN\" or token.pos_ == \"ADV\" or token.pos_ == \"ADJ\" or token.pos_ == \"PROPN\":\r\n",
        "    v_data = v_data + \" \" + token.text"
      ],
      "execution_count": null,
      "outputs": []
    },
    {
      "cell_type": "code",
      "metadata": {
        "id": "o8DFXsgF9Qv9",
        "colab": {
          "base_uri": "https://localhost:8080/",
          "height": 139
        },
        "outputId": "61a09197-be8d-432a-bf34-9db6d3e21999"
      },
      "source": [
        "v_data"
      ],
      "execution_count": null,
      "outputs": [
        {
          "output_type": "execute_result",
          "data": {
            "application/vnd.google.colaboratory.intrinsic+json": {
              "type": "string"
            },
            "text/plain": [
              "'  rashes pain nausea elevated liver enzymes remicade then humira doc switched orencia felt very tired evening loading dose ill now feel better felt years love stuff first week using orencia felt more energized would wake feeling tired could barely move stiff could go dinner other places now can enjoy life much better m tired stiff more can lot more things able before weekly injections nov had side effects flare ups joint swelling pain totally keeping ra bay insurance orencia copay covered total expense now insurance changed january will cover insist try humira can take methotrexate kidney issues terrified d rather let die cost give worked yrs doctor believes totally orencia amp so think best out there diagnosed years ago ra major joints right hip severe osteoarthritisi take plaquenil amp tried methotrexate gabapentin meloxicam arava major side effects one dr decided try biologic first self injection enbrel caused anaphylactic reaction almost killing now carry epi pen scared hopeful orencia would work first injection litterally kept epi pen hand hours first dose fingers turned very dark blueblack color feet legs solid greyblue color nd injection same thing orencia stopped months later still blue never again gave drug ten few months ago just year stopped working now trying roactemra got infusion orencia tues worsening ra symptoms wednesday severe headache basically incapacitated thursday morning woke same headache sensitivity light sound stiff neck unable stand vomiting ed doctor lumbar puncture told viral meningitis experience made reluctant try biologic th month treatment seen improvement overall paindiscomfort still continue issues also extreme fatigue day treatment doctor just increased dose maximum see works must take medication sleep comfortably medication stay awake day medications interact supposedly mild case rheumatoid arthritis still waiting feel normal orencia years diagnosed years ago so thankful responded so well medication orencia first medication hopefully last first infusion symptoms finally held bay had issues date whole heartily recommend orecina saved life gave life back hope ll same had orencia injections now found drug extremely beneficial overall marked improvement rheumatoid arthritis infusion actually works last few days then experience increase aching swelling pain comparison other drugs believe tried just wonder drug approximately days having injection experience extreme tiredness passes able return work carry normal everyday activities eg housework gardening prior medication unable general gardening had severe rheumatoid arthritis linked auto immune liver disease years worked could take methotrexate liver had steroids bucket load sulfasalazine azathrioprine cimzia simponi rituximab worked began orencia months ago transformed life almost back normal again will know life will never same again had unpleasant side effects amazing taken doses weekly self injections first felt awful nauseated flu systems now feel wonderful hurt even helped shortness breath would walking stairs hope continues help hope gain additional weight done prednisone prednisone months gained pounds loved first reaction months using life improved switched orencia couple months ago had treatments so far switched orencia noticed significant improvement rheumatoid arthritis able sleep well again night wake feeling tired achy stiff comparison other rheumatoid arthritis medications taken orencia seems working more no longer sleep deprived able chores able such opening jar door experience tiredness treatment day then last few days next treatment minor aches stiffness back hoping orencia will wonder drug diagnosed severe ra sjoumlgrens raynauds fibro ve tried methotrexate sulfazine prednisone embrel humira remicade became allergic biological then others stopped working orencia saved react positively days self injection can take breaks sometimes months off effect how drug works can now run mile ride horses hours swim roller skate again m look thanks miracle drug m so happy strength mobility back ve doing infusion months now improved symptoms at day infusion get severe low backhip pain amp m exhausted days following sleep lot amp feel awful uk nhs last months improved first month couple months able dance sons wedding thought would never thanks makers changed life m back work week ache most month others feel washed days post infusion worth nearly month good health life changing tried many typical ra drugs diagnosed plaquenil methylprednisolone years limited improvement months developed bad rash md refused continue medication daughter started monthly orencia infusions juvenile idiopathic arthritis years diagnosed previously taking enbrel methotrexate injections weekly years arthritis became more aggressive rheumatologist started orencia continuing methotrexate injections got used infusion part rather quickly side effects at all only problem occasional blown vein unfortunately medication prove effective months constant flare ups oral steroids steroid injections decided change medications again however other children know orencia helping prevent flare ups prednisone plaquenil mobic sulfasalisine arava keeping pain bay so tired stiff sore struggling work dr jenny decided try orencia self injection weekly month started feel better inflammation levels started go now plaquenil prednisone working hr day days week gardening landscaping hope continues saved work life severe pain also neck shoulders arms started abatacept about months more muscular pain bone pain looking come becoming problematic ve other biologic medicines most effective getting flare ups control medication life saver month old granddaughter mother live husband job keeping orencia ca even walk pain so severe thank orencia works quite well shot painless generally side effects orencia copay assistance makes medication affordable'"
            ]
          },
          "metadata": {
            "tags": []
          },
          "execution_count": 19
        }
      ]
    },
    {
      "cell_type": "code",
      "metadata": {
        "colab": {
          "base_uri": "https://localhost:8080/"
        },
        "id": "Gj02NMOa6grH",
        "outputId": "981c979d-1a4a-4356-8822-dd522b545186"
      },
      "source": [
        "print(\"Drug Name :\", drug_data)\r\n",
        "print(\"Drug used in condition : \" ,drug_condition)\r\n",
        "print(\"Average : \", Avg_rat)"
      ],
      "execution_count": null,
      "outputs": [
        {
          "output_type": "stream",
          "text": [
            "Drug Name : Zyrtec\n",
            "Drug used in condition :  ['Urticaria' 'Allergic Rhinitis'\n",
            " '7</span> users found this comment helpful.'\n",
            " '9</span> users found this comment helpful.']\n",
            "Average :  7.141304347826087\n"
          ],
          "name": "stdout"
        }
      ]
    },
    {
      "cell_type": "code",
      "metadata": {
        "id": "eYhSxh2oFLlM"
      },
      "source": [
        "string = \"very tired evening loading dose ill now feel better felt years love\"\r\n",
        "doc = nlp(string)"
      ],
      "execution_count": null,
      "outputs": []
    },
    {
      "cell_type": "code",
      "metadata": {
        "id": "jbqG7g11FXxW"
      },
      "source": [
        "v_data = \" \"\r\n",
        "for token in doc:\r\n",
        "  print(token.text,token.pos_,token.pos,token.sentiment)"
      ],
      "execution_count": null,
      "outputs": []
    },
    {
      "cell_type": "code",
      "metadata": {
        "id": "dp_JbnILG47Q"
      },
      "source": [
        "pip install textacy"
      ],
      "execution_count": null,
      "outputs": []
    },
    {
      "cell_type": "code",
      "metadata": {
        "id": "gFqUvwWSG2Cn"
      },
      "source": [
        "import textacy\r\n",
        "from textblob import TextBlob"
      ],
      "execution_count": null,
      "outputs": []
    },
    {
      "cell_type": "code",
      "metadata": {
        "colab": {
          "base_uri": "https://localhost:8080/",
          "height": 53
        },
        "id": "oi007YUkJmAb",
        "outputId": "c3b2a146-7c6d-4ac1-9984-f47bf2811c11"
      },
      "source": [
        "df_data.Clean_Review.iloc[0]"
      ],
      "execution_count": null,
      "outputs": [
        {
          "output_type": "execute_result",
          "data": {
            "application/vnd.google.colaboratory.intrinsic+json": {
              "type": "string"
            },
            "text/plain": [
              "'after rashes  pain nausea and elevated liver enzymes on remicade then humira the doc switched me to orencia  felt very tired the evening of the loading dose but not ill  now i feel better than i have felt in  years  love this stuff'"
            ]
          },
          "metadata": {
            "tags": []
          },
          "execution_count": 67
        }
      ]
    },
    {
      "cell_type": "code",
      "metadata": {
        "colab": {
          "base_uri": "https://localhost:8080/"
        },
        "id": "2Iqym0i9RGYW",
        "outputId": "7c74166f-b984-4f11-df89-d4e02f3104eb"
      },
      "source": [
        "string = \"after rashes  pain nausea and elevated liver enzymes on remicade then humira the doc switched me to orencia  felt very tired the evening of the loading dose but not ill  now i feel better than i have felt in  years  love this stuff\"\r\n",
        "doc = nlp(string)\r\n",
        "v_data = \" \"\r\n",
        "for token in doc:\r\n",
        "  print(token.text,token.pos_,token.pos,token.sentiment)"
      ],
      "execution_count": null,
      "outputs": [
        {
          "output_type": "stream",
          "text": [
            "after ADP 85 0.0\n",
            "rashes NOUN 92 0.0\n",
            "  SPACE 103 0.0\n",
            "pain NOUN 92 0.0\n",
            "nausea NOUN 92 0.0\n",
            "and CCONJ 89 0.0\n",
            "elevated ADJ 84 0.0\n",
            "liver NOUN 92 0.0\n",
            "enzymes NOUN 92 0.0\n",
            "on ADP 85 0.0\n",
            "remicade NOUN 92 0.0\n",
            "then ADV 86 0.0\n",
            "humira PROPN 96 0.0\n",
            "the DET 90 0.0\n",
            "doc PROPN 96 0.0\n",
            "switched VERB 100 0.0\n",
            "me PRON 95 0.0\n",
            "to ADP 85 0.0\n",
            "orencia PROPN 96 0.0\n",
            "  SPACE 103 0.0\n",
            "felt VERB 100 0.0\n",
            "very ADV 86 0.0\n",
            "tired ADJ 84 0.0\n",
            "the DET 90 0.0\n",
            "evening NOUN 92 0.0\n",
            "of ADP 85 0.0\n",
            "the DET 90 0.0\n",
            "loading NOUN 92 0.0\n",
            "dose NOUN 92 0.0\n",
            "but CCONJ 89 0.0\n",
            "not PART 94 0.0\n",
            "ill ADV 86 0.0\n",
            "  SPACE 103 0.0\n",
            "now ADV 86 0.0\n",
            "i PRON 95 0.0\n",
            "feel VERB 100 0.0\n",
            "better ADJ 84 0.0\n",
            "than SCONJ 98 0.0\n",
            "i PRON 95 0.0\n",
            "have AUX 87 0.0\n",
            "felt VERB 100 0.0\n",
            "in ADP 85 0.0\n",
            "  SPACE 103 0.0\n",
            "years NOUN 92 0.0\n",
            "  SPACE 103 0.0\n",
            "love NOUN 92 0.0\n",
            "this DET 90 0.0\n",
            "stuff NOUN 92 0.0\n"
          ],
          "name": "stdout"
        }
      ]
    },
    {
      "cell_type": "code",
      "metadata": {
        "id": "gmLAIGZISq3Y"
      },
      "source": [
        "def Effective_Words(Review):\r\n",
        "    Effective_Word=[]\r\n",
        "    Noun_Phrase=[]\r\n",
        "    Review=str(Review)\r\n",
        "    Review_text=Review\r\n",
        "    pattern_adj = [{\"POS\" : \"ADV\"},{\"POS\" :\"ADJ\"}]\r\n",
        "    pattern_adv = [{\"POS\" : \"ADV\"},{\"POS\" :\"ADV\"}]\r\n",
        "    pattern_v_adj = [{\"POS\" : \"VERB\"},{\"POS\" :\"ADJ\"}]\r\n",
        "    pattern_ann = [{\"POS\" : \"ADJ\"},{\"POS\" :\"NOUN\"},{\"POS\" :\"NOUN\"}]\r\n",
        "    Review_doc=textacy.make_spacy_doc(Review_text,lang='en_core_web_sm')\r\n",
        "    adj_phrases = textacy.extract.matches(Review_doc, patterns=pattern_adj)\r\n",
        "    adv_phrases = textacy.extract.matches(Review_doc, patterns=pattern_adv)\r\n",
        "    v_adj_phrases = textacy.extract.matches(Review_doc, patterns=pattern_v_adj)\r\n",
        "    ann_phrases = textacy.extract.matches(Review_doc, patterns=pattern_ann)\r\n",
        "    for word in adj_phrases:\r\n",
        "       Effective_Word.append(word.text)\r\n",
        "    for word in adv_phrases:\r\n",
        "       Effective_Word.append(word.text)\r\n",
        "    for word in v_adj_phrases:\r\n",
        "       Effective_Word.append(word.text)\r\n",
        "    for word in ann_phrases:\r\n",
        "       Effective_Word.append(word.text)\r\n",
        "    \r\n",
        "    return Effective_Word\r\n",
        "\r\n",
        "Effective_W = lambda x: Effective_Words(x)"
      ],
      "execution_count": null,
      "outputs": []
    },
    {
      "cell_type": "code",
      "metadata": {
        "colab": {
          "base_uri": "https://localhost:8080/"
        },
        "id": "Zb0BfgPOSubY",
        "outputId": "884a3cfb-8c6f-4108-a019-a6d9878d5b89"
      },
      "source": [
        "df_data['Effective_Words'] = df_data.Clean_Review.apply(Effective_W)"
      ],
      "execution_count": null,
      "outputs": [
        {
          "output_type": "stream",
          "text": [
            "/usr/local/lib/python3.6/dist-packages/ipykernel_launcher.py:1: SettingWithCopyWarning: \n",
            "A value is trying to be set on a copy of a slice from a DataFrame.\n",
            "Try using .loc[row_indexer,col_indexer] = value instead\n",
            "\n",
            "See the caveats in the documentation: https://pandas.pydata.org/pandas-docs/stable/user_guide/indexing.html#returning-a-view-versus-a-copy\n",
            "  \"\"\"Entry point for launching an IPython kernel.\n"
          ],
          "name": "stderr"
        }
      ]
    },
    {
      "cell_type": "code",
      "metadata": {
        "colab": {
          "base_uri": "https://localhost:8080/",
          "height": 497
        },
        "id": "9pEDVvFqSzGF",
        "outputId": "e24afe9b-c093-4f8c-dfb8-164743db70ac"
      },
      "source": [
        "df_data.head()"
      ],
      "execution_count": null,
      "outputs": [
        {
          "output_type": "execute_result",
          "data": {
            "text/html": [
              "<div>\n",
              "<style scoped>\n",
              "    .dataframe tbody tr th:only-of-type {\n",
              "        vertical-align: middle;\n",
              "    }\n",
              "\n",
              "    .dataframe tbody tr th {\n",
              "        vertical-align: top;\n",
              "    }\n",
              "\n",
              "    .dataframe thead th {\n",
              "        text-align: right;\n",
              "    }\n",
              "</style>\n",
              "<table border=\"1\" class=\"dataframe\">\n",
              "  <thead>\n",
              "    <tr style=\"text-align: right;\">\n",
              "      <th></th>\n",
              "      <th>Unnamed: 0</th>\n",
              "      <th>drugName</th>\n",
              "      <th>condition</th>\n",
              "      <th>rating</th>\n",
              "      <th>date</th>\n",
              "      <th>usefulCount</th>\n",
              "      <th>Clean_Review</th>\n",
              "      <th>S_Review</th>\n",
              "      <th>Lemm_Review</th>\n",
              "      <th>sentiment</th>\n",
              "      <th>Effective_Words</th>\n",
              "      <th>Noun_Phrase</th>\n",
              "    </tr>\n",
              "  </thead>\n",
              "  <tbody>\n",
              "    <tr>\n",
              "      <th>3046</th>\n",
              "      <td>3651</td>\n",
              "      <td>Abatacept</td>\n",
              "      <td>Rheumatoid Arthritis</td>\n",
              "      <td>9.0</td>\n",
              "      <td>May 29, 2017</td>\n",
              "      <td>16.0</td>\n",
              "      <td>after rashes  pain nausea and elevated liver e...</td>\n",
              "      <td>['rashes', 'pain', 'nausea', 'elevated', 'live...</td>\n",
              "      <td>['rash', 'pain', 'nausea', 'elevated', 'liver'...</td>\n",
              "      <td>1</td>\n",
              "      <td>[very tired, feel better, elevated liver enzymes]</td>\n",
              "      <td>[(pain, nausea), (elevated, liver, enzymes), (...</td>\n",
              "    </tr>\n",
              "    <tr>\n",
              "      <th>3505</th>\n",
              "      <td>4174</td>\n",
              "      <td>Abatacept</td>\n",
              "      <td>Rheumatoid Arthritis</td>\n",
              "      <td>10.0</td>\n",
              "      <td>October 7, 2009</td>\n",
              "      <td>92.0</td>\n",
              "      <td>after the first week of using orencia i felt m...</td>\n",
              "      <td>['first', 'week', 'using', 'orencia', 'felt', ...</td>\n",
              "      <td>['first', 'week', 'using', 'orencia', 'felt', ...</td>\n",
              "      <td>1</td>\n",
              "      <td>[more energized, much better, feeling tired]</td>\n",
              "      <td>[(the, first, week), (orencia), (i), (i), (i),...</td>\n",
              "    </tr>\n",
              "    <tr>\n",
              "      <th>6483</th>\n",
              "      <td>7564</td>\n",
              "      <td>Abatacept</td>\n",
              "      <td>Rheumatoid Arthritis</td>\n",
              "      <td>10.0</td>\n",
              "      <td>February 25, 2016</td>\n",
              "      <td>62.0</td>\n",
              "      <td>been on weekly injections since nov  have had ...</td>\n",
              "      <td>['weekly', 'injections', 'since', 'nov', 'side...</td>\n",
              "      <td>['weekly', 'injection', 'since', 'nov', 'side'...</td>\n",
              "      <td>1</td>\n",
              "      <td>[out there]</td>\n",
              "      <td>[(weekly, injections), (nov), (no, side, effec...</td>\n",
              "    </tr>\n",
              "    <tr>\n",
              "      <th>9337</th>\n",
              "      <td>10814</td>\n",
              "      <td>Abatacept</td>\n",
              "      <td>Rheumatoid Arthritis</td>\n",
              "      <td>1.0</td>\n",
              "      <td>April 18, 2016</td>\n",
              "      <td>27.0</td>\n",
              "      <td>diagnosed years ago with ra in all major joint...</td>\n",
              "      <td>['diagnosed', 'years', 'ago', 'ra', 'major', '...</td>\n",
              "      <td>['diagnosed', 'year', 'ago', 'ra', 'major', 'j...</td>\n",
              "      <td>0</td>\n",
              "      <td>[very dark, still blue, never again, major sid...</td>\n",
              "      <td>[(ra), (all, major, joints), (right, hip), (pl...</td>\n",
              "    </tr>\n",
              "    <tr>\n",
              "      <th>13334</th>\n",
              "      <td>15441</td>\n",
              "      <td>Abatacept</td>\n",
              "      <td>Rheumatoid Arthritis</td>\n",
              "      <td>3.0</td>\n",
              "      <td>May 5, 2016</td>\n",
              "      <td>22.0</td>\n",
              "      <td>gave this drug a ten a few months ago but afte...</td>\n",
              "      <td>['gave', 'drug', 'ten', 'months', 'ago', 'year...</td>\n",
              "      <td>['gave', 'drug', 'ten', 'month', 'ago', 'year'...</td>\n",
              "      <td>0</td>\n",
              "      <td>[]</td>\n",
              "      <td>[(this, drug), (a, ten), (just, over, a, year)...</td>\n",
              "    </tr>\n",
              "  </tbody>\n",
              "</table>\n",
              "</div>"
            ],
            "text/plain": [
              "       Unnamed: 0  ...                                        Noun_Phrase\n",
              "3046         3651  ...  [(pain, nausea), (elevated, liver, enzymes), (...\n",
              "3505         4174  ...  [(the, first, week), (orencia), (i), (i), (i),...\n",
              "6483         7564  ...  [(weekly, injections), (nov), (no, side, effec...\n",
              "9337        10814  ...  [(ra), (all, major, joints), (right, hip), (pl...\n",
              "13334       15441  ...  [(this, drug), (a, ten), (just, over, a, year)...\n",
              "\n",
              "[5 rows x 12 columns]"
            ]
          },
          "metadata": {
            "tags": []
          },
          "execution_count": 71
        }
      ]
    },
    {
      "cell_type": "code",
      "metadata": {
        "colab": {
          "base_uri": "https://localhost:8080/"
        },
        "id": "refHxRuwZFrQ",
        "outputId": "1342eaef-9e2a-489c-994d-fbaf221cca31"
      },
      "source": [
        "df_data.Effective_Words.iloc[3]"
      ],
      "execution_count": null,
      "outputs": [
        {
          "output_type": "execute_result",
          "data": {
            "text/plain": [
              "['very dark',\n",
              " 'still blue',\n",
              " 'never again',\n",
              " 'major side effects',\n",
              " 'first self injection',\n",
              " 'solid greyblue color']"
            ]
          },
          "metadata": {
            "tags": []
          },
          "execution_count": 73
        }
      ]
    },
    {
      "cell_type": "code",
      "metadata": {
        "id": "fMxRdIdWaPCl"
      },
      "source": [
        "Effective_word = df_data['Effective_Words']"
      ],
      "execution_count": null,
      "outputs": []
    },
    {
      "cell_type": "code",
      "metadata": {
        "colab": {
          "base_uri": "https://localhost:8080/"
        },
        "id": "n7-LZRKca6jQ",
        "outputId": "e3d460eb-db9b-47ac-df0b-8a8148309765"
      },
      "source": [
        "print(Effective_word)"
      ],
      "execution_count": null,
      "outputs": [
        {
          "output_type": "stream",
          "text": [
            "3046      [very tired, feel better, elevated liver enzymes]\n",
            "3505           [more energized, much better, feeling tired]\n",
            "6483                                            [out there]\n",
            "9337      [very dark, still blue, never again, major sid...\n",
            "13334                                                    []\n",
            "13787                           [same headache sensitivity]\n",
            "21911                             [stay awake, feel normal]\n",
            "34444                [so thankful, so well, whole heartily]\n",
            "40317            [extremely beneficial, experience extreme]\n",
            "41796     [almost back, had severe, immune liver disease...\n",
            "44700     [felt awful, feel wonderful, gain additional, ...\n",
            "48643                                                    []\n",
            "54691     [so far, well again, no longer, feeling tired,...\n",
            "60407                           [so happy, became allergic]\n",
            "70266            [get severe, feel awful, low backhip pain]\n",
            "78233                                                    []\n",
            "82387                                          [tried many]\n",
            "82558                                       [developed bad]\n",
            "85039     [more aggressive, rather quickly, at all, star...\n",
            "91282                               [so tired, feel better]\n",
            "92825     [more muscular, most effective, becoming probl...\n",
            "102169                                          [so severe]\n",
            "112258                                         [quite well]\n",
            "Name: Effective_Words, dtype: object\n"
          ],
          "name": "stdout"
        }
      ]
    }
  ]
}
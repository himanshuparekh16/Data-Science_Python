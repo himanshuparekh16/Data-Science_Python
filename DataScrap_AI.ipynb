{
 "cells": [
  {
   "cell_type": "code",
   "execution_count": 1,
   "metadata": {},
   "outputs": [],
   "source": [
    "from selenium import webdriver\n",
    "from time import sleep\n",
    "from bs4 import BeautifulSoup"
   ]
  },
  {
   "cell_type": "code",
   "execution_count": 17,
   "metadata": {},
   "outputs": [],
   "source": [
    "PageUrl= \"https://in.indeed.com/jobs?q=Artificial+Intelligence&l=India&start={}\"\n",
    "#https://in.indeed.com/jobs?q=machine%20learning&l=India&fromage=14&start={} #For ML Jobs link"
   ]
  },
  {
   "cell_type": "code",
   "execution_count": 18,
   "metadata": {},
   "outputs": [],
   "source": [
    "Driver = webdriver.Chrome(\"C:\\chromedriver_win32\\chromedriver.exe\")"
   ]
  },
  {
   "cell_type": "code",
   "execution_count": 19,
   "metadata": {},
   "outputs": [],
   "source": [
    "## Data we want to collect (Store)\n",
    "Titles = []\n",
    "Locations = []\n",
    "Companies = []\n",
    "Salaries = []\n",
    "JobDetails = []"
   ]
  },
  {
   "cell_type": "code",
   "execution_count": 20,
   "metadata": {},
   "outputs": [],
   "source": [
    "for pageNum in range(0, 200, 10):\n",
    "    Driver.get(PageUrl.format(pageNum))\n",
    "    cards = None\n",
    "    while True:\n",
    "        cards = Driver.find_elements_by_class_name(\"result\")\n",
    "        break\n",
    "        \n",
    "    for card in cards:\n",
    "        details = BeautifulSoup(card.get_attribute('innerHTML'), 'html.parser')\n",
    "        \n",
    "        try:\n",
    "            title = details.find('a', class_ = \"jobtitle\").text.replace(\"\\n\", \"\").strip()\n",
    "            Titles.append(title)\n",
    "        except:\n",
    "            Titles.append(None)\n",
    "            \n",
    "            \n",
    "        try:\n",
    "            location = details.find(class_ = \"location\").text.replace(\"\\n\", \"\").strip()\n",
    "            Locations.append(location)\n",
    "        except:\n",
    "            Locations.append(None)\n",
    "            \n",
    "        try:\n",
    "            company = details.find(class_ = \"company\").text.replace(\"\\n\", \"\").strip()\n",
    "            Companies.append(company)\n",
    "        except:\n",
    "            Companies.append(None)\n",
    "            \n",
    "        \n",
    "        try:\n",
    "            salary = details.find(class_ = \"salary\").text.replace(\"\\n\", \"\").strip()\n",
    "            Salaries.append(salary)\n",
    "        except:\n",
    "            Salaries.append(None)\n",
    "        \n",
    "        while True:\n",
    "            try:\n",
    "                card.click()\n",
    "                sleep(1)\n",
    "                try:\n",
    "                    Des = Driver.find_element_by_id(\"vjs-tab-job\")\n",
    "                    DesHTML = BeautifulSoup(Des.get_attribute('innerHTML'), 'html.parser')\n",
    "                    all_li = DesHTML.find_all(\"li\")\n",
    "                    all_li_text = \"\"\n",
    "                    for Li in all_li:\n",
    "                        all_li_text += Li.text.replace(\"\\n\", \"\")\n",
    "                        all_li_text += \" \"\n",
    "                    JobDetails.append(all_li_text)\n",
    "                except:\n",
    "                    JobDetails.append(None)\n",
    "                break\n",
    "            except:\n",
    "                pass"
   ]
  },
  {
   "cell_type": "code",
   "execution_count": 21,
   "metadata": {},
   "outputs": [],
   "source": [
    "import pandas as pd"
   ]
  },
  {
   "cell_type": "code",
   "execution_count": 22,
   "metadata": {},
   "outputs": [],
   "source": [
    "df = pd.DataFrame({\n",
    "    \"Title\":Titles,\n",
    "    \"Location\":Locations,\n",
    "    \"Company\":Companies,\n",
    "    \"Salary\":Salaries,\n",
    "    \"Details\":JobDetails\n",
    "    \n",
    "})"
   ]
  },
  {
   "cell_type": "code",
   "execution_count": 23,
   "metadata": {},
   "outputs": [
    {
     "data": {
      "text/html": [
       "<div>\n",
       "<style scoped>\n",
       "    .dataframe tbody tr th:only-of-type {\n",
       "        vertical-align: middle;\n",
       "    }\n",
       "\n",
       "    .dataframe tbody tr th {\n",
       "        vertical-align: top;\n",
       "    }\n",
       "\n",
       "    .dataframe thead th {\n",
       "        text-align: right;\n",
       "    }\n",
       "</style>\n",
       "<table border=\"1\" class=\"dataframe\">\n",
       "  <thead>\n",
       "    <tr style=\"text-align: right;\">\n",
       "      <th></th>\n",
       "      <th>Title</th>\n",
       "      <th>Location</th>\n",
       "      <th>Company</th>\n",
       "      <th>Salary</th>\n",
       "      <th>Details</th>\n",
       "    </tr>\n",
       "  </thead>\n",
       "  <tbody>\n",
       "    <tr>\n",
       "      <th>0</th>\n",
       "      <td>Polarion ALM Developer/ Administrator/ Polario...</td>\n",
       "      <td>Hyderabad, Telangana</td>\n",
       "      <td>Compliance Group Inc.</td>\n",
       "      <td>₹6,00,000 - ₹15,00,000 a year</td>\n",
       "      <td>None</td>\n",
       "    </tr>\n",
       "    <tr>\n",
       "      <th>1</th>\n",
       "      <td>Talent Acquisitions Specialist - Strategic Sou...</td>\n",
       "      <td>Bengaluru, Karnataka</td>\n",
       "      <td>Telstra</td>\n",
       "      <td>None</td>\n",
       "      <td>None</td>\n",
       "    </tr>\n",
       "  </tbody>\n",
       "</table>\n",
       "</div>"
      ],
      "text/plain": [
       "                                               Title              Location  \\\n",
       "0  Polarion ALM Developer/ Administrator/ Polario...  Hyderabad, Telangana   \n",
       "1  Talent Acquisitions Specialist - Strategic Sou...  Bengaluru, Karnataka   \n",
       "\n",
       "                 Company                         Salary Details  \n",
       "0  Compliance Group Inc.  ₹6,00,000 - ₹15,00,000 a year    None  \n",
       "1                Telstra                           None    None  "
      ]
     },
     "execution_count": 23,
     "metadata": {},
     "output_type": "execute_result"
    }
   ],
   "source": [
    "df.head(2)"
   ]
  }
 ],
 "metadata": {
  "kernelspec": {
   "display_name": "Python 3",
   "language": "python",
   "name": "python3"
  },
  "language_info": {
   "codemirror_mode": {
    "name": "ipython",
    "version": 3
   },
   "file_extension": ".py",
   "mimetype": "text/x-python",
   "name": "python",
   "nbconvert_exporter": "python",
   "pygments_lexer": "ipython3",
   "version": "3.8.3"
  }
 },
 "nbformat": 4,
 "nbformat_minor": 4
}

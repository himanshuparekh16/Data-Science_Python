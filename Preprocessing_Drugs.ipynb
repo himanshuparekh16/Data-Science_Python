{
  "nbformat": 4,
  "nbformat_minor": 0,
  "metadata": {
    "colab": {
      "name": "Preprocessing_Drugs.ipynb",
      "provenance": [],
      "collapsed_sections": [],
      "machine_shape": "hm"
    },
    "kernelspec": {
      "name": "python3",
      "display_name": "Python 3"
    },
    "accelerator": "GPU"
  },
  "cells": [
    {
      "cell_type": "code",
      "metadata": {
        "colab": {
          "base_uri": "https://localhost:8080/",
          "height": 35
        },
        "id": "aWrvyVxwbkqI",
        "outputId": "afed9f33-97af-4513-bfc9-9bc6d3fe81df"
      },
      "source": [
        "pwd"
      ],
      "execution_count": 1,
      "outputs": [
        {
          "output_type": "execute_result",
          "data": {
            "application/vnd.google.colaboratory.intrinsic+json": {
              "type": "string"
            },
            "text/plain": [
              "'/content'"
            ]
          },
          "metadata": {
            "tags": []
          },
          "execution_count": 1
        }
      ]
    },
    {
      "cell_type": "markdown",
      "metadata": {
        "id": "m6Uo6J6tdEXz"
      },
      "source": [
        ""
      ]
    },
    {
      "cell_type": "code",
      "metadata": {
        "id": "4jMVhRAbcZkT"
      },
      "source": [
        "#Importing Libraries\r\n",
        "import pandas as pd\r\n",
        "import numpy as np\r\n",
        "import matplotlib.pyplot as plt\r\n",
        "import seaborn as sns"
      ],
      "execution_count": 2,
      "outputs": []
    },
    {
      "cell_type": "code",
      "metadata": {
        "id": "Y9-w1sZYYr97"
      },
      "source": [
        "#Load the dataset\r\n",
        "df=pd.read_csv(\"./sample_data/drugsCom.csv\",encoding=\"ISO-8859-1\")"
      ],
      "execution_count": 3,
      "outputs": []
    },
    {
      "cell_type": "code",
      "metadata": {
        "colab": {
          "base_uri": "https://localhost:8080/",
          "height": 200
        },
        "id": "B03MXcqwYs-o",
        "outputId": "84867ec2-ee07-4419-d6ed-687a786fedfa"
      },
      "source": [
        "df.tail()"
      ],
      "execution_count": 4,
      "outputs": [
        {
          "output_type": "execute_result",
          "data": {
            "text/html": [
              "<div>\n",
              "<style scoped>\n",
              "    .dataframe tbody tr th:only-of-type {\n",
              "        vertical-align: middle;\n",
              "    }\n",
              "\n",
              "    .dataframe tbody tr th {\n",
              "        vertical-align: top;\n",
              "    }\n",
              "\n",
              "    .dataframe thead th {\n",
              "        text-align: right;\n",
              "    }\n",
              "</style>\n",
              "<table border=\"1\" class=\"dataframe\">\n",
              "  <thead>\n",
              "    <tr style=\"text-align: right;\">\n",
              "      <th></th>\n",
              "      <th>MedicineName\\t</th>\n",
              "      <th>Condition</th>\n",
              "      <th>Review</th>\n",
              "      <th>rating</th>\n",
              "      <th>date</th>\n",
              "      <th>usefulCount</th>\n",
              "    </tr>\n",
              "  </thead>\n",
              "  <tbody>\n",
              "    <tr>\n",
              "      <th>128745</th>\n",
              "      <td>Zyvox</td>\n",
              "      <td>Bacterial Infection</td>\n",
              "      <td>\"It didn&amp;#039;t work as fast as I thought it w...</td>\n",
              "      <td>6.0</td>\n",
              "      <td>April 17, 2016</td>\n",
              "      <td>1.0</td>\n",
              "    </tr>\n",
              "    <tr>\n",
              "      <th>128746</th>\n",
              "      <td>Zyvox</td>\n",
              "      <td>Skin and Structure Infection</td>\n",
              "      <td>\"My father is taking this medicine for Celluli...</td>\n",
              "      <td>5.0</td>\n",
              "      <td>July 22, 2009</td>\n",
              "      <td>8.0</td>\n",
              "    </tr>\n",
              "    <tr>\n",
              "      <th>128747</th>\n",
              "      <td>ZzzQuil</td>\n",
              "      <td>Insomnia</td>\n",
              "      <td>\"Gave me rapid heart beats !!!!!!!!!\"</td>\n",
              "      <td>1.0</td>\n",
              "      <td>May 26, 2017</td>\n",
              "      <td>1.0</td>\n",
              "    </tr>\n",
              "    <tr>\n",
              "      <th>128748</th>\n",
              "      <td>ZzzQuil</td>\n",
              "      <td>Insomnia</td>\n",
              "      <td>\"I purchased the zzzquil and it did not work n...</td>\n",
              "      <td>1.0</td>\n",
              "      <td>January 13, 2016</td>\n",
              "      <td>17.0</td>\n",
              "    </tr>\n",
              "    <tr>\n",
              "      <th>128749</th>\n",
              "      <td>ZzzQuil</td>\n",
              "      <td>Insomnia</td>\n",
              "      <td>\"I usually work a 10 hr shift in the afternoon...</td>\n",
              "      <td>4.0</td>\n",
              "      <td>May 27, 2017</td>\n",
              "      <td>3.0</td>\n",
              "    </tr>\n",
              "  </tbody>\n",
              "</table>\n",
              "</div>"
            ],
            "text/plain": [
              "       MedicineName\\t  ... usefulCount\n",
              "128745          Zyvox  ...         1.0\n",
              "128746          Zyvox  ...         8.0\n",
              "128747        ZzzQuil  ...         1.0\n",
              "128748        ZzzQuil  ...        17.0\n",
              "128749        ZzzQuil  ...         3.0\n",
              "\n",
              "[5 rows x 6 columns]"
            ]
          },
          "metadata": {
            "tags": []
          },
          "execution_count": 4
        }
      ]
    },
    {
      "cell_type": "code",
      "metadata": {
        "colab": {
          "base_uri": "https://localhost:8080/"
        },
        "id": "1fpG-IN8YtJ4",
        "outputId": "f560d31e-c20c-4f42-a194-fb53946ad9a3"
      },
      "source": [
        "df.shape"
      ],
      "execution_count": 5,
      "outputs": [
        {
          "output_type": "execute_result",
          "data": {
            "text/plain": [
              "(128750, 6)"
            ]
          },
          "metadata": {
            "tags": []
          },
          "execution_count": 5
        }
      ]
    },
    {
      "cell_type": "code",
      "metadata": {
        "id": "oeMKv1lAYtT1"
      },
      "source": [
        "#Data Cleaning (Normalizing the text)\r\n",
        "#Make text lowercase, remove punctuation and numbers present the reviews."
      ],
      "execution_count": null,
      "outputs": []
    },
    {
      "cell_type": "code",
      "metadata": {
        "id": "gxCjZq6mYtc0"
      },
      "source": [
        "import re #regular expression\r\n",
        "import string\r\n",
        "def clean_Review(Review):\r\n",
        "    Review=Review.lower()\r\n",
        "    Review = re.sub('[0-9]', '', Review)\r\n",
        "    Review = Review.translate(str.maketrans('', '', string.punctuation))\r\n",
        "    return Review\r\n",
        "\r\n",
        "clean = lambda x: clean_Review(x)"
      ],
      "execution_count": 6,
      "outputs": []
    },
    {
      "cell_type": "code",
      "metadata": {
        "id": "Oxsz1MEqYtlD"
      },
      "source": [
        "df['Review'] = df.Review.apply(clean)"
      ],
      "execution_count": 7,
      "outputs": []
    },
    {
      "cell_type": "code",
      "metadata": {
        "colab": {
          "base_uri": "https://localhost:8080/",
          "height": 200
        },
        "id": "m_l9jmE3Ytst",
        "outputId": "53ee4192-b759-4ad5-c1ed-6ebe7cd3213b"
      },
      "source": [
        "df.tail()"
      ],
      "execution_count": 8,
      "outputs": [
        {
          "output_type": "execute_result",
          "data": {
            "text/html": [
              "<div>\n",
              "<style scoped>\n",
              "    .dataframe tbody tr th:only-of-type {\n",
              "        vertical-align: middle;\n",
              "    }\n",
              "\n",
              "    .dataframe tbody tr th {\n",
              "        vertical-align: top;\n",
              "    }\n",
              "\n",
              "    .dataframe thead th {\n",
              "        text-align: right;\n",
              "    }\n",
              "</style>\n",
              "<table border=\"1\" class=\"dataframe\">\n",
              "  <thead>\n",
              "    <tr style=\"text-align: right;\">\n",
              "      <th></th>\n",
              "      <th>MedicineName\\t</th>\n",
              "      <th>Condition</th>\n",
              "      <th>Review</th>\n",
              "      <th>rating</th>\n",
              "      <th>date</th>\n",
              "      <th>usefulCount</th>\n",
              "    </tr>\n",
              "  </thead>\n",
              "  <tbody>\n",
              "    <tr>\n",
              "      <th>128745</th>\n",
              "      <td>Zyvox</td>\n",
              "      <td>Bacterial Infection</td>\n",
              "      <td>it didnt work as fast as i thought it would ve...</td>\n",
              "      <td>6.0</td>\n",
              "      <td>April 17, 2016</td>\n",
              "      <td>1.0</td>\n",
              "    </tr>\n",
              "    <tr>\n",
              "      <th>128746</th>\n",
              "      <td>Zyvox</td>\n",
              "      <td>Skin and Structure Infection</td>\n",
              "      <td>my father is taking this medicine for cellulit...</td>\n",
              "      <td>5.0</td>\n",
              "      <td>July 22, 2009</td>\n",
              "      <td>8.0</td>\n",
              "    </tr>\n",
              "    <tr>\n",
              "      <th>128747</th>\n",
              "      <td>ZzzQuil</td>\n",
              "      <td>Insomnia</td>\n",
              "      <td>gave me rapid heart beats</td>\n",
              "      <td>1.0</td>\n",
              "      <td>May 26, 2017</td>\n",
              "      <td>1.0</td>\n",
              "    </tr>\n",
              "    <tr>\n",
              "      <th>128748</th>\n",
              "      <td>ZzzQuil</td>\n",
              "      <td>Insomnia</td>\n",
              "      <td>i purchased the zzzquil and it did not work no...</td>\n",
              "      <td>1.0</td>\n",
              "      <td>January 13, 2016</td>\n",
              "      <td>17.0</td>\n",
              "    </tr>\n",
              "    <tr>\n",
              "      <th>128749</th>\n",
              "      <td>ZzzQuil</td>\n",
              "      <td>Insomnia</td>\n",
              "      <td>i usually work a  hr shift in the afternoon bu...</td>\n",
              "      <td>4.0</td>\n",
              "      <td>May 27, 2017</td>\n",
              "      <td>3.0</td>\n",
              "    </tr>\n",
              "  </tbody>\n",
              "</table>\n",
              "</div>"
            ],
            "text/plain": [
              "       MedicineName\\t  ... usefulCount\n",
              "128745          Zyvox  ...         1.0\n",
              "128746          Zyvox  ...         8.0\n",
              "128747        ZzzQuil  ...         1.0\n",
              "128748        ZzzQuil  ...        17.0\n",
              "128749        ZzzQuil  ...         3.0\n",
              "\n",
              "[5 rows x 6 columns]"
            ]
          },
          "metadata": {
            "tags": []
          },
          "execution_count": 8
        }
      ]
    },
    {
      "cell_type": "code",
      "metadata": {
        "colab": {
          "base_uri": "https://localhost:8080/"
        },
        "id": "_QcG2Y-pYtzz",
        "outputId": "7390ead2-518b-4d94-ba0d-50030f0a1ce7"
      },
      "source": [
        "#Checking Null values\r\n",
        "df.isnull().sum()"
      ],
      "execution_count": 9,
      "outputs": [
        {
          "output_type": "execute_result",
          "data": {
            "text/plain": [
              "MedicineName\\t        0\n",
              "Condition           609\n",
              "Review                0\n",
              "rating            14689\n",
              "date              14689\n",
              "usefulCount       14689\n",
              "dtype: int64"
            ]
          },
          "metadata": {
            "tags": []
          },
          "execution_count": 9
        }
      ]
    },
    {
      "cell_type": "code",
      "metadata": {
        "id": "EgQ_s6DaYt64"
      },
      "source": [
        "#Droping the Null Rows\r\n",
        "df=df.dropna()"
      ],
      "execution_count": 10,
      "outputs": []
    },
    {
      "cell_type": "code",
      "metadata": {
        "colab": {
          "base_uri": "https://localhost:8080/"
        },
        "id": "CXakJaP2YuCE",
        "outputId": "c2f7a5f4-d75d-44db-f924-80936edb793c"
      },
      "source": [
        "df.shape"
      ],
      "execution_count": 11,
      "outputs": [
        {
          "output_type": "execute_result",
          "data": {
            "text/plain": [
              "(113501, 6)"
            ]
          },
          "metadata": {
            "tags": []
          },
          "execution_count": 11
        }
      ]
    },
    {
      "cell_type": "code",
      "metadata": {
        "colab": {
          "base_uri": "https://localhost:8080/"
        },
        "id": "Lx5QdNqjYuIQ",
        "outputId": "056a6d67-e19f-4501-94fc-30b9fdb5b39f"
      },
      "source": [
        "#Checking Null values\r\n",
        "df.isnull().sum()\r\n",
        "#NO Null values"
      ],
      "execution_count": 12,
      "outputs": [
        {
          "output_type": "execute_result",
          "data": {
            "text/plain": [
              "MedicineName\\t    0\n",
              "Condition         0\n",
              "Review            0\n",
              "rating            0\n",
              "date              0\n",
              "usefulCount       0\n",
              "dtype: int64"
            ]
          },
          "metadata": {
            "tags": []
          },
          "execution_count": 12
        }
      ]
    },
    {
      "cell_type": "code",
      "metadata": {
        "colab": {
          "base_uri": "https://localhost:8080/"
        },
        "id": "YUGzasKuZ16u",
        "outputId": "5fce2fab-09c4-44ba-cc27-0e370584089e"
      },
      "source": [
        "#No of Medicines in dataset\r\n",
        "df[\"MedicineName\\t\"].nunique()"
      ],
      "execution_count": 13,
      "outputs": [
        {
          "output_type": "execute_result",
          "data": {
            "text/plain": [
              "2335"
            ]
          },
          "metadata": {
            "tags": []
          },
          "execution_count": 13
        }
      ]
    },
    {
      "cell_type": "code",
      "metadata": {
        "colab": {
          "base_uri": "https://localhost:8080/"
        },
        "id": "0KyPjZpgZ2Ze",
        "outputId": "af918716-ed06-49a8-e7ba-3dddeeb5455c"
      },
      "source": [
        "#Find the duplicates\r\n",
        "df.iloc[:,0:4].duplicated().sum()"
      ],
      "execution_count": 14,
      "outputs": [
        {
          "output_type": "execute_result",
          "data": {
            "text/plain": [
              "43"
            ]
          },
          "metadata": {
            "tags": []
          },
          "execution_count": 14
        }
      ]
    },
    {
      "cell_type": "code",
      "metadata": {
        "id": "DmqOuRvdZ2ks"
      },
      "source": [
        "#Droping duplicates\r\n",
        "df=df.drop_duplicates(subset=[\"MedicineName\\t\",\"Condition\",\"Review\",\"rating\"],keep='first')"
      ],
      "execution_count": 16,
      "outputs": []
    },
    {
      "cell_type": "code",
      "metadata": {
        "colab": {
          "base_uri": "https://localhost:8080/"
        },
        "id": "ZNgv7iJbZ2uZ",
        "outputId": "214b4128-1520-41d3-a13a-178f9db2ad09"
      },
      "source": [
        "df.iloc[:,0:4].duplicated().sum()\r\n",
        "#No duplicate values"
      ],
      "execution_count": 17,
      "outputs": [
        {
          "output_type": "execute_result",
          "data": {
            "text/plain": [
              "0"
            ]
          },
          "metadata": {
            "tags": []
          },
          "execution_count": 17
        }
      ]
    },
    {
      "cell_type": "code",
      "metadata": {
        "colab": {
          "base_uri": "https://localhost:8080/"
        },
        "id": "8OnNSepbZ24r",
        "outputId": "ed4cccaf-3375-4b6d-f78a-891ba10b545f"
      },
      "source": [
        "df.shape"
      ],
      "execution_count": 18,
      "outputs": [
        {
          "output_type": "execute_result",
          "data": {
            "text/plain": [
              "(113458, 6)"
            ]
          },
          "metadata": {
            "tags": []
          },
          "execution_count": 18
        }
      ]
    },
    {
      "cell_type": "code",
      "metadata": {
        "colab": {
          "base_uri": "https://localhost:8080/"
        },
        "id": "VVorqhV0bq4u",
        "outputId": "58db944b-3be8-4343-f44b-9c46a513f41c"
      },
      "source": [
        "#expanding contractions \r\n",
        "!pip install contractions"
      ],
      "execution_count": 20,
      "outputs": [
        {
          "output_type": "stream",
          "text": [
            "Requirement already satisfied: contractions in /usr/local/lib/python3.6/dist-packages (0.0.43)\n",
            "Requirement already satisfied: textsearch in /usr/local/lib/python3.6/dist-packages (from contractions) (0.0.17)\n",
            "Requirement already satisfied: pyahocorasick in /usr/local/lib/python3.6/dist-packages (from textsearch->contractions) (1.4.0)\n",
            "Requirement already satisfied: Unidecode in /usr/local/lib/python3.6/dist-packages (from textsearch->contractions) (1.1.2)\n"
          ],
          "name": "stdout"
        }
      ]
    },
    {
      "cell_type": "code",
      "metadata": {
        "id": "m3ct-6-6cL-i"
      },
      "source": [
        "import contractions\r\n",
        "#cont = contractions('GoogleNews-vectors-negative300.bin')\r\n",
        "df['Updated_Review'] = df['Review'].apply(lambda x:[contractions.fix(word) for word in x.split()])"
      ],
      "execution_count": null,
      "outputs": []
    },
    {
      "cell_type": "code",
      "metadata": {
        "colab": {
          "base_uri": "https://localhost:8080/",
          "height": 143
        },
        "id": "dfZgT7lyuxiB",
        "outputId": "6dd7217b-e7d9-40dd-d968-7fd4039b0ce2"
      },
      "source": [
        "df.tail(2)"
      ],
      "execution_count": 25,
      "outputs": [
        {
          "output_type": "execute_result",
          "data": {
            "text/html": [
              "<div>\n",
              "<style scoped>\n",
              "    .dataframe tbody tr th:only-of-type {\n",
              "        vertical-align: middle;\n",
              "    }\n",
              "\n",
              "    .dataframe tbody tr th {\n",
              "        vertical-align: top;\n",
              "    }\n",
              "\n",
              "    .dataframe thead th {\n",
              "        text-align: right;\n",
              "    }\n",
              "</style>\n",
              "<table border=\"1\" class=\"dataframe\">\n",
              "  <thead>\n",
              "    <tr style=\"text-align: right;\">\n",
              "      <th></th>\n",
              "      <th>MedicineName\\t</th>\n",
              "      <th>Condition</th>\n",
              "      <th>Review</th>\n",
              "      <th>rating</th>\n",
              "      <th>date</th>\n",
              "      <th>usefulCount</th>\n",
              "      <th>Updated_Review</th>\n",
              "    </tr>\n",
              "  </thead>\n",
              "  <tbody>\n",
              "    <tr>\n",
              "      <th>128748</th>\n",
              "      <td>ZzzQuil</td>\n",
              "      <td>Insomnia</td>\n",
              "      <td>i purchased the zzzquil and it did not work no...</td>\n",
              "      <td>1.0</td>\n",
              "      <td>January 13, 2016</td>\n",
              "      <td>17.0</td>\n",
              "      <td>[i, purchased, the, zzzquil, and, it, did, not...</td>\n",
              "    </tr>\n",
              "    <tr>\n",
              "      <th>128749</th>\n",
              "      <td>ZzzQuil</td>\n",
              "      <td>Insomnia</td>\n",
              "      <td>i usually work a  hr shift in the afternoon bu...</td>\n",
              "      <td>4.0</td>\n",
              "      <td>May 27, 2017</td>\n",
              "      <td>3.0</td>\n",
              "      <td>[i, usually, work, a, hr, shift, in, the, afte...</td>\n",
              "    </tr>\n",
              "  </tbody>\n",
              "</table>\n",
              "</div>"
            ],
            "text/plain": [
              "       MedicineName\\t  ...                                     Updated_Review\n",
              "128748        ZzzQuil  ...  [i, purchased, the, zzzquil, and, it, did, not...\n",
              "128749        ZzzQuil  ...  [i, usually, work, a, hr, shift, in, the, afte...\n",
              "\n",
              "[2 rows x 7 columns]"
            ]
          },
          "metadata": {
            "tags": []
          },
          "execution_count": 25
        }
      ]
    },
    {
      "cell_type": "code",
      "metadata": {
        "id": "YtQT4tXqvcX5"
      },
      "source": [
        "#Coverting Updated_Review column into string format for further preprocessing\r\n",
        "df['Updated_Review'] = [' '.join(map(str, l)) for l in df['Updated_Review']]"
      ],
      "execution_count": null,
      "outputs": []
    },
    {
      "cell_type": "code",
      "metadata": {
        "colab": {
          "base_uri": "https://localhost:8080/",
          "height": 285
        },
        "id": "7hAQAHNmvwSy",
        "outputId": "541deb88-73f8-4b56-b529-f62ca364b1dd"
      },
      "source": [
        "df.tail()"
      ],
      "execution_count": 28,
      "outputs": [
        {
          "output_type": "execute_result",
          "data": {
            "text/html": [
              "<div>\n",
              "<style scoped>\n",
              "    .dataframe tbody tr th:only-of-type {\n",
              "        vertical-align: middle;\n",
              "    }\n",
              "\n",
              "    .dataframe tbody tr th {\n",
              "        vertical-align: top;\n",
              "    }\n",
              "\n",
              "    .dataframe thead th {\n",
              "        text-align: right;\n",
              "    }\n",
              "</style>\n",
              "<table border=\"1\" class=\"dataframe\">\n",
              "  <thead>\n",
              "    <tr style=\"text-align: right;\">\n",
              "      <th></th>\n",
              "      <th>MedicineName\\t</th>\n",
              "      <th>Condition</th>\n",
              "      <th>Review</th>\n",
              "      <th>rating</th>\n",
              "      <th>date</th>\n",
              "      <th>usefulCount</th>\n",
              "      <th>Updated_Review</th>\n",
              "    </tr>\n",
              "  </thead>\n",
              "  <tbody>\n",
              "    <tr>\n",
              "      <th>128745</th>\n",
              "      <td>Zyvox</td>\n",
              "      <td>Bacterial Infection</td>\n",
              "      <td>it didnt work as fast as i thought it would ve...</td>\n",
              "      <td>6.0</td>\n",
              "      <td>April 17, 2016</td>\n",
              "      <td>1.0</td>\n",
              "      <td>it did not work as fast as i thought it would ...</td>\n",
              "    </tr>\n",
              "    <tr>\n",
              "      <th>128746</th>\n",
              "      <td>Zyvox</td>\n",
              "      <td>Skin and Structure Infection</td>\n",
              "      <td>my father is taking this medicine for cellulit...</td>\n",
              "      <td>5.0</td>\n",
              "      <td>July 22, 2009</td>\n",
              "      <td>8.0</td>\n",
              "      <td>my father is taking this medicine for cellulit...</td>\n",
              "    </tr>\n",
              "    <tr>\n",
              "      <th>128747</th>\n",
              "      <td>ZzzQuil</td>\n",
              "      <td>Insomnia</td>\n",
              "      <td>gave me rapid heart beats</td>\n",
              "      <td>1.0</td>\n",
              "      <td>May 26, 2017</td>\n",
              "      <td>1.0</td>\n",
              "      <td>gave me rapid heart beats</td>\n",
              "    </tr>\n",
              "    <tr>\n",
              "      <th>128748</th>\n",
              "      <td>ZzzQuil</td>\n",
              "      <td>Insomnia</td>\n",
              "      <td>i purchased the zzzquil and it did not work no...</td>\n",
              "      <td>1.0</td>\n",
              "      <td>January 13, 2016</td>\n",
              "      <td>17.0</td>\n",
              "      <td>i purchased the zzzquil and it did not work no...</td>\n",
              "    </tr>\n",
              "    <tr>\n",
              "      <th>128749</th>\n",
              "      <td>ZzzQuil</td>\n",
              "      <td>Insomnia</td>\n",
              "      <td>i usually work a  hr shift in the afternoon bu...</td>\n",
              "      <td>4.0</td>\n",
              "      <td>May 27, 2017</td>\n",
              "      <td>3.0</td>\n",
              "      <td>i usually work a hr shift in the afternoon but...</td>\n",
              "    </tr>\n",
              "  </tbody>\n",
              "</table>\n",
              "</div>"
            ],
            "text/plain": [
              "       MedicineName\\t  ...                                     Updated_Review\n",
              "128745          Zyvox  ...  it did not work as fast as i thought it would ...\n",
              "128746          Zyvox  ...  my father is taking this medicine for cellulit...\n",
              "128747        ZzzQuil  ...                          gave me rapid heart beats\n",
              "128748        ZzzQuil  ...  i purchased the zzzquil and it did not work no...\n",
              "128749        ZzzQuil  ...  i usually work a hr shift in the afternoon but...\n",
              "\n",
              "[5 rows x 7 columns]"
            ]
          },
          "metadata": {
            "tags": []
          },
          "execution_count": 28
        }
      ]
    },
    {
      "cell_type": "code",
      "metadata": {
        "id": "FPYdwf7M1_mq"
      },
      "source": [
        "# English language detection using standard facebook pretrained model\r\n",
        "pretrained_model = \"lid.176.bin\" "
      ],
      "execution_count": 29,
      "outputs": []
    },
    {
      "cell_type": "code",
      "metadata": {
        "id": "BwLWeGN02F6n"
      },
      "source": [
        "#fastText is a library for efficient learning of word representations and sentence classification.\r\n",
        "!pip install fasttext"
      ],
      "execution_count": null,
      "outputs": []
    },
    {
      "cell_type": "code",
      "metadata": {
        "id": "9P5TWlri2Goc"
      },
      "source": [
        "import fasttext\r\n",
        "model = fasttext.load_model('./sample_data/lid.176.bin')\r\n",
        "\r\n",
        "langs = []\r\n",
        "for sent in df['Updated_Review']:\r\n",
        "  lang = model.predict(sent)[0]\r\n",
        "  langs.append(str(lang)[11:13])\r\n",
        "\r\n",
        "df['language'] = langs"
      ],
      "execution_count": null,
      "outputs": []
    },
    {
      "cell_type": "code",
      "metadata": {
        "colab": {
          "base_uri": "https://localhost:8080/"
        },
        "id": "sWGzm7CH3Vj4",
        "outputId": "f201d7d9-37c3-40fd-991e-3def19888ff1"
      },
      "source": [
        "pd.value_counts(df['language'])"
      ],
      "execution_count": 33,
      "outputs": [
        {
          "output_type": "execute_result",
          "data": {
            "text/plain": [
              "en    113408\n",
              "no        10\n",
              "sv         8\n",
              "fr         7\n",
              "it         5\n",
              "ce         4\n",
              "nl         4\n",
              "de         3\n",
              "es         2\n",
              "vi         2\n",
              "ca         2\n",
              "da         1\n",
              "pl         1\n",
              "pt         1\n",
              "Name: language, dtype: int64"
            ]
          },
          "metadata": {
            "tags": []
          },
          "execution_count": 33
        }
      ]
    },
    {
      "cell_type": "code",
      "metadata": {
        "colab": {
          "base_uri": "https://localhost:8080/",
          "height": 302
        },
        "id": "rSaCYK4Y3sJ2",
        "outputId": "1094a783-0756-4dd9-9a60-c8ebaf43e4d8"
      },
      "source": [
        "df.tail()"
      ],
      "execution_count": 34,
      "outputs": [
        {
          "output_type": "execute_result",
          "data": {
            "text/html": [
              "<div>\n",
              "<style scoped>\n",
              "    .dataframe tbody tr th:only-of-type {\n",
              "        vertical-align: middle;\n",
              "    }\n",
              "\n",
              "    .dataframe tbody tr th {\n",
              "        vertical-align: top;\n",
              "    }\n",
              "\n",
              "    .dataframe thead th {\n",
              "        text-align: right;\n",
              "    }\n",
              "</style>\n",
              "<table border=\"1\" class=\"dataframe\">\n",
              "  <thead>\n",
              "    <tr style=\"text-align: right;\">\n",
              "      <th></th>\n",
              "      <th>MedicineName\\t</th>\n",
              "      <th>Condition</th>\n",
              "      <th>Review</th>\n",
              "      <th>rating</th>\n",
              "      <th>date</th>\n",
              "      <th>usefulCount</th>\n",
              "      <th>Updated_Review</th>\n",
              "      <th>language</th>\n",
              "    </tr>\n",
              "  </thead>\n",
              "  <tbody>\n",
              "    <tr>\n",
              "      <th>128745</th>\n",
              "      <td>Zyvox</td>\n",
              "      <td>Bacterial Infection</td>\n",
              "      <td>it didnt work as fast as i thought it would ve...</td>\n",
              "      <td>6.0</td>\n",
              "      <td>April 17, 2016</td>\n",
              "      <td>1.0</td>\n",
              "      <td>it did not work as fast as i thought it would ...</td>\n",
              "      <td>en</td>\n",
              "    </tr>\n",
              "    <tr>\n",
              "      <th>128746</th>\n",
              "      <td>Zyvox</td>\n",
              "      <td>Skin and Structure Infection</td>\n",
              "      <td>my father is taking this medicine for cellulit...</td>\n",
              "      <td>5.0</td>\n",
              "      <td>July 22, 2009</td>\n",
              "      <td>8.0</td>\n",
              "      <td>my father is taking this medicine for cellulit...</td>\n",
              "      <td>en</td>\n",
              "    </tr>\n",
              "    <tr>\n",
              "      <th>128747</th>\n",
              "      <td>ZzzQuil</td>\n",
              "      <td>Insomnia</td>\n",
              "      <td>gave me rapid heart beats</td>\n",
              "      <td>1.0</td>\n",
              "      <td>May 26, 2017</td>\n",
              "      <td>1.0</td>\n",
              "      <td>gave me rapid heart beats</td>\n",
              "      <td>en</td>\n",
              "    </tr>\n",
              "    <tr>\n",
              "      <th>128748</th>\n",
              "      <td>ZzzQuil</td>\n",
              "      <td>Insomnia</td>\n",
              "      <td>i purchased the zzzquil and it did not work no...</td>\n",
              "      <td>1.0</td>\n",
              "      <td>January 13, 2016</td>\n",
              "      <td>17.0</td>\n",
              "      <td>i purchased the zzzquil and it did not work no...</td>\n",
              "      <td>en</td>\n",
              "    </tr>\n",
              "    <tr>\n",
              "      <th>128749</th>\n",
              "      <td>ZzzQuil</td>\n",
              "      <td>Insomnia</td>\n",
              "      <td>i usually work a  hr shift in the afternoon bu...</td>\n",
              "      <td>4.0</td>\n",
              "      <td>May 27, 2017</td>\n",
              "      <td>3.0</td>\n",
              "      <td>i usually work a hr shift in the afternoon but...</td>\n",
              "      <td>en</td>\n",
              "    </tr>\n",
              "  </tbody>\n",
              "</table>\n",
              "</div>"
            ],
            "text/plain": [
              "       MedicineName\\t  ... language\n",
              "128745          Zyvox  ...       en\n",
              "128746          Zyvox  ...       en\n",
              "128747        ZzzQuil  ...       en\n",
              "128748        ZzzQuil  ...       en\n",
              "128749        ZzzQuil  ...       en\n",
              "\n",
              "[5 rows x 8 columns]"
            ]
          },
          "metadata": {
            "tags": []
          },
          "execution_count": 34
        }
      ]
    },
    {
      "cell_type": "code",
      "metadata": {
        "id": "PL0mERKr33Er"
      },
      "source": [
        "#removing reviews from other languages\r\n",
        "df = df.loc[df['language'] == 'en']"
      ],
      "execution_count": 35,
      "outputs": []
    },
    {
      "cell_type": "code",
      "metadata": {
        "colab": {
          "base_uri": "https://localhost:8080/",
          "height": 143
        },
        "id": "PNN9mU_n4CuQ",
        "outputId": "d6f721c8-3865-4969-b7ce-77739e0d76bf"
      },
      "source": [
        "df.tail(2)"
      ],
      "execution_count": 36,
      "outputs": [
        {
          "output_type": "execute_result",
          "data": {
            "text/html": [
              "<div>\n",
              "<style scoped>\n",
              "    .dataframe tbody tr th:only-of-type {\n",
              "        vertical-align: middle;\n",
              "    }\n",
              "\n",
              "    .dataframe tbody tr th {\n",
              "        vertical-align: top;\n",
              "    }\n",
              "\n",
              "    .dataframe thead th {\n",
              "        text-align: right;\n",
              "    }\n",
              "</style>\n",
              "<table border=\"1\" class=\"dataframe\">\n",
              "  <thead>\n",
              "    <tr style=\"text-align: right;\">\n",
              "      <th></th>\n",
              "      <th>MedicineName\\t</th>\n",
              "      <th>Condition</th>\n",
              "      <th>Review</th>\n",
              "      <th>rating</th>\n",
              "      <th>date</th>\n",
              "      <th>usefulCount</th>\n",
              "      <th>Updated_Review</th>\n",
              "      <th>language</th>\n",
              "    </tr>\n",
              "  </thead>\n",
              "  <tbody>\n",
              "    <tr>\n",
              "      <th>128748</th>\n",
              "      <td>ZzzQuil</td>\n",
              "      <td>Insomnia</td>\n",
              "      <td>i purchased the zzzquil and it did not work no...</td>\n",
              "      <td>1.0</td>\n",
              "      <td>January 13, 2016</td>\n",
              "      <td>17.0</td>\n",
              "      <td>i purchased the zzzquil and it did not work no...</td>\n",
              "      <td>en</td>\n",
              "    </tr>\n",
              "    <tr>\n",
              "      <th>128749</th>\n",
              "      <td>ZzzQuil</td>\n",
              "      <td>Insomnia</td>\n",
              "      <td>i usually work a  hr shift in the afternoon bu...</td>\n",
              "      <td>4.0</td>\n",
              "      <td>May 27, 2017</td>\n",
              "      <td>3.0</td>\n",
              "      <td>i usually work a hr shift in the afternoon but...</td>\n",
              "      <td>en</td>\n",
              "    </tr>\n",
              "  </tbody>\n",
              "</table>\n",
              "</div>"
            ],
            "text/plain": [
              "       MedicineName\\t  ... language\n",
              "128748        ZzzQuil  ...       en\n",
              "128749        ZzzQuil  ...       en\n",
              "\n",
              "[2 rows x 8 columns]"
            ]
          },
          "metadata": {
            "tags": []
          },
          "execution_count": 36
        }
      ]
    },
    {
      "cell_type": "code",
      "metadata": {
        "colab": {
          "base_uri": "https://localhost:8080/",
          "height": 143
        },
        "id": "SxDvrb1O4GwZ",
        "outputId": "d4fb404a-777d-46b5-a462-4ea238b298e9"
      },
      "source": [
        "df = df.drop(['language'], axis = 1)\r\n",
        "df.tail(2)"
      ],
      "execution_count": 37,
      "outputs": [
        {
          "output_type": "execute_result",
          "data": {
            "text/html": [
              "<div>\n",
              "<style scoped>\n",
              "    .dataframe tbody tr th:only-of-type {\n",
              "        vertical-align: middle;\n",
              "    }\n",
              "\n",
              "    .dataframe tbody tr th {\n",
              "        vertical-align: top;\n",
              "    }\n",
              "\n",
              "    .dataframe thead th {\n",
              "        text-align: right;\n",
              "    }\n",
              "</style>\n",
              "<table border=\"1\" class=\"dataframe\">\n",
              "  <thead>\n",
              "    <tr style=\"text-align: right;\">\n",
              "      <th></th>\n",
              "      <th>MedicineName\\t</th>\n",
              "      <th>Condition</th>\n",
              "      <th>Review</th>\n",
              "      <th>rating</th>\n",
              "      <th>date</th>\n",
              "      <th>usefulCount</th>\n",
              "      <th>Updated_Review</th>\n",
              "    </tr>\n",
              "  </thead>\n",
              "  <tbody>\n",
              "    <tr>\n",
              "      <th>128748</th>\n",
              "      <td>ZzzQuil</td>\n",
              "      <td>Insomnia</td>\n",
              "      <td>i purchased the zzzquil and it did not work no...</td>\n",
              "      <td>1.0</td>\n",
              "      <td>January 13, 2016</td>\n",
              "      <td>17.0</td>\n",
              "      <td>i purchased the zzzquil and it did not work no...</td>\n",
              "    </tr>\n",
              "    <tr>\n",
              "      <th>128749</th>\n",
              "      <td>ZzzQuil</td>\n",
              "      <td>Insomnia</td>\n",
              "      <td>i usually work a  hr shift in the afternoon bu...</td>\n",
              "      <td>4.0</td>\n",
              "      <td>May 27, 2017</td>\n",
              "      <td>3.0</td>\n",
              "      <td>i usually work a hr shift in the afternoon but...</td>\n",
              "    </tr>\n",
              "  </tbody>\n",
              "</table>\n",
              "</div>"
            ],
            "text/plain": [
              "       MedicineName\\t  ...                                     Updated_Review\n",
              "128748        ZzzQuil  ...  i purchased the zzzquil and it did not work no...\n",
              "128749        ZzzQuil  ...  i usually work a hr shift in the afternoon but...\n",
              "\n",
              "[2 rows x 7 columns]"
            ]
          },
          "metadata": {
            "tags": []
          },
          "execution_count": 37
        }
      ]
    },
    {
      "cell_type": "code",
      "metadata": {
        "id": "J43QSAmKZ3By"
      },
      "source": [
        "#Tokenize the review\r\n",
        "import nltk\r\n",
        "nltk.download('punkt')"
      ],
      "execution_count": null,
      "outputs": []
    },
    {
      "cell_type": "code",
      "metadata": {
        "id": "duJ8GTV2aJCE"
      },
      "source": [
        "from nltk import word_tokenize\r\n",
        "df['Updated_Review']=df['Updated_Review'].apply(word_tokenize)"
      ],
      "execution_count": 40,
      "outputs": []
    },
    {
      "cell_type": "code",
      "metadata": {
        "colab": {
          "base_uri": "https://localhost:8080/",
          "height": 143
        },
        "id": "poCjWQKtaJMf",
        "outputId": "25f7bedc-01ac-4558-caee-1c2dbc3905aa"
      },
      "source": [
        "df.tail(2)"
      ],
      "execution_count": 41,
      "outputs": [
        {
          "output_type": "execute_result",
          "data": {
            "text/html": [
              "<div>\n",
              "<style scoped>\n",
              "    .dataframe tbody tr th:only-of-type {\n",
              "        vertical-align: middle;\n",
              "    }\n",
              "\n",
              "    .dataframe tbody tr th {\n",
              "        vertical-align: top;\n",
              "    }\n",
              "\n",
              "    .dataframe thead th {\n",
              "        text-align: right;\n",
              "    }\n",
              "</style>\n",
              "<table border=\"1\" class=\"dataframe\">\n",
              "  <thead>\n",
              "    <tr style=\"text-align: right;\">\n",
              "      <th></th>\n",
              "      <th>MedicineName\\t</th>\n",
              "      <th>Condition</th>\n",
              "      <th>Review</th>\n",
              "      <th>rating</th>\n",
              "      <th>date</th>\n",
              "      <th>usefulCount</th>\n",
              "      <th>Updated_Review</th>\n",
              "    </tr>\n",
              "  </thead>\n",
              "  <tbody>\n",
              "    <tr>\n",
              "      <th>128748</th>\n",
              "      <td>ZzzQuil</td>\n",
              "      <td>Insomnia</td>\n",
              "      <td>i purchased the zzzquil and it did not work no...</td>\n",
              "      <td>1.0</td>\n",
              "      <td>January 13, 2016</td>\n",
              "      <td>17.0</td>\n",
              "      <td>[i, purchased, the, zzzquil, and, it, did, not...</td>\n",
              "    </tr>\n",
              "    <tr>\n",
              "      <th>128749</th>\n",
              "      <td>ZzzQuil</td>\n",
              "      <td>Insomnia</td>\n",
              "      <td>i usually work a  hr shift in the afternoon bu...</td>\n",
              "      <td>4.0</td>\n",
              "      <td>May 27, 2017</td>\n",
              "      <td>3.0</td>\n",
              "      <td>[i, usually, work, a, hr, shift, in, the, afte...</td>\n",
              "    </tr>\n",
              "  </tbody>\n",
              "</table>\n",
              "</div>"
            ],
            "text/plain": [
              "       MedicineName\\t  ...                                     Updated_Review\n",
              "128748        ZzzQuil  ...  [i, purchased, the, zzzquil, and, it, did, not...\n",
              "128749        ZzzQuil  ...  [i, usually, work, a, hr, shift, in, the, afte...\n",
              "\n",
              "[2 rows x 7 columns]"
            ]
          },
          "metadata": {
            "tags": []
          },
          "execution_count": 41
        }
      ]
    },
    {
      "cell_type": "code",
      "metadata": {
        "id": "PH_T46ME5DvE"
      },
      "source": [
        "#Removing StopWords"
      ],
      "execution_count": null,
      "outputs": []
    },
    {
      "cell_type": "code",
      "metadata": {
        "id": "7kM6Xui_gfoe"
      },
      "source": [
        "nltk.download('stopwords')"
      ],
      "execution_count": null,
      "outputs": []
    },
    {
      "cell_type": "code",
      "metadata": {
        "id": "y2qVzKuHaJVv"
      },
      "source": [
        "#Remove Stopwords\r\n",
        "from nltk.corpus import stopwords\r\n",
        "df['Updated_Review'] = df['Updated_Review'].apply(lambda x:[w for w in x if w not in stopwords.words('english')])"
      ],
      "execution_count": 44,
      "outputs": []
    },
    {
      "cell_type": "code",
      "metadata": {
        "colab": {
          "base_uri": "https://localhost:8080/",
          "height": 143
        },
        "id": "PMnK5-2xaJe8",
        "outputId": "32b9a21e-7a49-427a-fc5e-272ad34333eb"
      },
      "source": [
        "df.tail(2)"
      ],
      "execution_count": 45,
      "outputs": [
        {
          "output_type": "execute_result",
          "data": {
            "text/html": [
              "<div>\n",
              "<style scoped>\n",
              "    .dataframe tbody tr th:only-of-type {\n",
              "        vertical-align: middle;\n",
              "    }\n",
              "\n",
              "    .dataframe tbody tr th {\n",
              "        vertical-align: top;\n",
              "    }\n",
              "\n",
              "    .dataframe thead th {\n",
              "        text-align: right;\n",
              "    }\n",
              "</style>\n",
              "<table border=\"1\" class=\"dataframe\">\n",
              "  <thead>\n",
              "    <tr style=\"text-align: right;\">\n",
              "      <th></th>\n",
              "      <th>MedicineName\\t</th>\n",
              "      <th>Condition</th>\n",
              "      <th>Review</th>\n",
              "      <th>rating</th>\n",
              "      <th>date</th>\n",
              "      <th>usefulCount</th>\n",
              "      <th>Updated_Review</th>\n",
              "    </tr>\n",
              "  </thead>\n",
              "  <tbody>\n",
              "    <tr>\n",
              "      <th>128748</th>\n",
              "      <td>ZzzQuil</td>\n",
              "      <td>Insomnia</td>\n",
              "      <td>i purchased the zzzquil and it did not work no...</td>\n",
              "      <td>1.0</td>\n",
              "      <td>January 13, 2016</td>\n",
              "      <td>17.0</td>\n",
              "      <td>[purchased, zzzquil, work, bit, would, recomme...</td>\n",
              "    </tr>\n",
              "    <tr>\n",
              "      <th>128749</th>\n",
              "      <td>ZzzQuil</td>\n",
              "      <td>Insomnia</td>\n",
              "      <td>i usually work a  hr shift in the afternoon bu...</td>\n",
              "      <td>4.0</td>\n",
              "      <td>May 27, 2017</td>\n",
              "      <td>3.0</td>\n",
              "      <td>[usually, work, hr, shift, afternoon, boss, ch...</td>\n",
              "    </tr>\n",
              "  </tbody>\n",
              "</table>\n",
              "</div>"
            ],
            "text/plain": [
              "       MedicineName\\t  ...                                     Updated_Review\n",
              "128748        ZzzQuil  ...  [purchased, zzzquil, work, bit, would, recomme...\n",
              "128749        ZzzQuil  ...  [usually, work, hr, shift, afternoon, boss, ch...\n",
              "\n",
              "[2 rows x 7 columns]"
            ]
          },
          "metadata": {
            "tags": []
          },
          "execution_count": 45
        }
      ]
    },
    {
      "cell_type": "code",
      "metadata": {
        "id": "NwTTjaWFlQXe"
      },
      "source": [
        " nltk.download('wordnet')"
      ],
      "execution_count": null,
      "outputs": []
    },
    {
      "cell_type": "code",
      "metadata": {
        "id": "LxgsgRSXaX63"
      },
      "source": [
        "from nltk import WordNetLemmatizer\r\n",
        "wordnet = WordNetLemmatizer()\r\n",
        "df['Updated_Review'] = df['Updated_Review'].apply(lambda x: [wordnet.lemmatize(w) for w in x]) "
      ],
      "execution_count": 47,
      "outputs": []
    },
    {
      "cell_type": "code",
      "metadata": {
        "colab": {
          "base_uri": "https://localhost:8080/",
          "height": 143
        },
        "id": "wwN47BTgaYFc",
        "outputId": "4b3529ae-bc64-4524-99bf-711ad539e18c"
      },
      "source": [
        "df.tail(2)"
      ],
      "execution_count": 48,
      "outputs": [
        {
          "output_type": "execute_result",
          "data": {
            "text/html": [
              "<div>\n",
              "<style scoped>\n",
              "    .dataframe tbody tr th:only-of-type {\n",
              "        vertical-align: middle;\n",
              "    }\n",
              "\n",
              "    .dataframe tbody tr th {\n",
              "        vertical-align: top;\n",
              "    }\n",
              "\n",
              "    .dataframe thead th {\n",
              "        text-align: right;\n",
              "    }\n",
              "</style>\n",
              "<table border=\"1\" class=\"dataframe\">\n",
              "  <thead>\n",
              "    <tr style=\"text-align: right;\">\n",
              "      <th></th>\n",
              "      <th>MedicineName\\t</th>\n",
              "      <th>Condition</th>\n",
              "      <th>Review</th>\n",
              "      <th>rating</th>\n",
              "      <th>date</th>\n",
              "      <th>usefulCount</th>\n",
              "      <th>Updated_Review</th>\n",
              "    </tr>\n",
              "  </thead>\n",
              "  <tbody>\n",
              "    <tr>\n",
              "      <th>128748</th>\n",
              "      <td>ZzzQuil</td>\n",
              "      <td>Insomnia</td>\n",
              "      <td>i purchased the zzzquil and it did not work no...</td>\n",
              "      <td>1.0</td>\n",
              "      <td>January 13, 2016</td>\n",
              "      <td>17.0</td>\n",
              "      <td>[purchased, zzzquil, work, bit, would, recomme...</td>\n",
              "    </tr>\n",
              "    <tr>\n",
              "      <th>128749</th>\n",
              "      <td>ZzzQuil</td>\n",
              "      <td>Insomnia</td>\n",
              "      <td>i usually work a  hr shift in the afternoon bu...</td>\n",
              "      <td>4.0</td>\n",
              "      <td>May 27, 2017</td>\n",
              "      <td>3.0</td>\n",
              "      <td>[usually, work, hr, shift, afternoon, bos, cha...</td>\n",
              "    </tr>\n",
              "  </tbody>\n",
              "</table>\n",
              "</div>"
            ],
            "text/plain": [
              "       MedicineName\\t  ...                                     Updated_Review\n",
              "128748        ZzzQuil  ...  [purchased, zzzquil, work, bit, would, recomme...\n",
              "128749        ZzzQuil  ...  [usually, work, hr, shift, afternoon, bos, cha...\n",
              "\n",
              "[2 rows x 7 columns]"
            ]
          },
          "metadata": {
            "tags": []
          },
          "execution_count": 48
        }
      ]
    },
    {
      "cell_type": "code",
      "metadata": {
        "id": "Ff1F0Cb_D5to"
      },
      "source": [
        "df.rename(columns={'MedicineName\\t': 'MedicineName'}, inplace=True)"
      ],
      "execution_count": 52,
      "outputs": []
    },
    {
      "cell_type": "code",
      "metadata": {
        "colab": {
          "base_uri": "https://localhost:8080/",
          "height": 285
        },
        "id": "SXFPPAdJD6bf",
        "outputId": "ca1b27cb-479e-4d62-cb61-e3ca0f2c26d9"
      },
      "source": [
        "df.tail()"
      ],
      "execution_count": 53,
      "outputs": [
        {
          "output_type": "execute_result",
          "data": {
            "text/html": [
              "<div>\n",
              "<style scoped>\n",
              "    .dataframe tbody tr th:only-of-type {\n",
              "        vertical-align: middle;\n",
              "    }\n",
              "\n",
              "    .dataframe tbody tr th {\n",
              "        vertical-align: top;\n",
              "    }\n",
              "\n",
              "    .dataframe thead th {\n",
              "        text-align: right;\n",
              "    }\n",
              "</style>\n",
              "<table border=\"1\" class=\"dataframe\">\n",
              "  <thead>\n",
              "    <tr style=\"text-align: right;\">\n",
              "      <th></th>\n",
              "      <th>MedicineName</th>\n",
              "      <th>Condition</th>\n",
              "      <th>Review</th>\n",
              "      <th>rating</th>\n",
              "      <th>date</th>\n",
              "      <th>usefulCount</th>\n",
              "      <th>Updated_Review</th>\n",
              "    </tr>\n",
              "  </thead>\n",
              "  <tbody>\n",
              "    <tr>\n",
              "      <th>128745</th>\n",
              "      <td>Zyvox</td>\n",
              "      <td>Bacterial Infection</td>\n",
              "      <td>it didnt work as fast as i thought it would ve...</td>\n",
              "      <td>6.0</td>\n",
              "      <td>April 17, 2016</td>\n",
              "      <td>1.0</td>\n",
              "      <td>[work, fast, thought, would, expensive, made, ...</td>\n",
              "    </tr>\n",
              "    <tr>\n",
              "      <th>128746</th>\n",
              "      <td>Zyvox</td>\n",
              "      <td>Skin and Structure Infection</td>\n",
              "      <td>my father is taking this medicine for cellulit...</td>\n",
              "      <td>5.0</td>\n",
              "      <td>July 22, 2009</td>\n",
              "      <td>8.0</td>\n",
              "      <td>[father, taking, medicine, cellulitis, started...</td>\n",
              "    </tr>\n",
              "    <tr>\n",
              "      <th>128747</th>\n",
              "      <td>ZzzQuil</td>\n",
              "      <td>Insomnia</td>\n",
              "      <td>gave me rapid heart beats</td>\n",
              "      <td>1.0</td>\n",
              "      <td>May 26, 2017</td>\n",
              "      <td>1.0</td>\n",
              "      <td>[gave, rapid, heart, beat]</td>\n",
              "    </tr>\n",
              "    <tr>\n",
              "      <th>128748</th>\n",
              "      <td>ZzzQuil</td>\n",
              "      <td>Insomnia</td>\n",
              "      <td>i purchased the zzzquil and it did not work no...</td>\n",
              "      <td>1.0</td>\n",
              "      <td>January 13, 2016</td>\n",
              "      <td>17.0</td>\n",
              "      <td>[purchased, zzzquil, work, bit, would, recomme...</td>\n",
              "    </tr>\n",
              "    <tr>\n",
              "      <th>128749</th>\n",
              "      <td>ZzzQuil</td>\n",
              "      <td>Insomnia</td>\n",
              "      <td>i usually work a  hr shift in the afternoon bu...</td>\n",
              "      <td>4.0</td>\n",
              "      <td>May 27, 2017</td>\n",
              "      <td>3.0</td>\n",
              "      <td>[usually, work, hr, shift, afternoon, bos, cha...</td>\n",
              "    </tr>\n",
              "  </tbody>\n",
              "</table>\n",
              "</div>"
            ],
            "text/plain": [
              "       MedicineName  ...                                     Updated_Review\n",
              "128745        Zyvox  ...  [work, fast, thought, would, expensive, made, ...\n",
              "128746        Zyvox  ...  [father, taking, medicine, cellulitis, started...\n",
              "128747      ZzzQuil  ...                         [gave, rapid, heart, beat]\n",
              "128748      ZzzQuil  ...  [purchased, zzzquil, work, bit, would, recomme...\n",
              "128749      ZzzQuil  ...  [usually, work, hr, shift, afternoon, bos, cha...\n",
              "\n",
              "[5 rows x 7 columns]"
            ]
          },
          "metadata": {
            "tags": []
          },
          "execution_count": 53
        }
      ]
    },
    {
      "cell_type": "code",
      "metadata": {
        "id": "bH2qOelIaYq7"
      },
      "source": [
        "#Converting df to csv\r\n",
        "df.to_csv('Preprocessed_Drugs.csv')"
      ],
      "execution_count": 54,
      "outputs": []
    },
    {
      "cell_type": "code",
      "metadata": {
        "id": "SfFqwR48bmmv"
      },
      "source": [
        "#Note:Merged Vinayak code with Mine"
      ],
      "execution_count": null,
      "outputs": []
    },
    {
      "cell_type": "code",
      "metadata": {
        "id": "78ycLeKo4AkK"
      },
      "source": [
        ""
      ],
      "execution_count": null,
      "outputs": []
    }
  ]
}